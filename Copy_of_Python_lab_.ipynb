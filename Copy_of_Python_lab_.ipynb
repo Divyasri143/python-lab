{
  "nbformat": 4,
  "nbformat_minor": 0,
  "metadata": {
    "colab": {
      "name": "Copy of Python lab .ipynb",
      "provenance": [],
      "collapsed_sections": [],
      "authorship_tag": "ABX9TyORgeQaqhpsFb3YD4Wa0+ks",
      "include_colab_link": true
    },
    "kernelspec": {
      "display_name": "Python 3",
      "name": "python3"
    },
    "language_info": {
      "name": "python"
    }
  },
  "cells": [
    {
      "cell_type": "markdown",
      "metadata": {
        "id": "view-in-github",
        "colab_type": "text"
      },
      "source": [
        "<a href=\"https://colab.research.google.com/github/Divyasri143/python-lab/blob/main/Copy_of_Python_lab_.ipynb\" target=\"_parent\"><img src=\"https://colab.research.google.com/assets/colab-badge.svg\" alt=\"Open In Colab\"/></a>"
      ]
    },
    {
      "cell_type": "markdown",
      "metadata": {
        "id": "Uug5ugNgGJZh"
      },
      "source": [
        "                                    Exercise 1-Basics \n",
        "\n",
        "       a) Running instructions in Interactive interpreter and a Python Script\n",
        "       code:\n",
        "                                      "
      ]
    },
    {
      "cell_type": "code",
      "metadata": {
        "id": "YHv8stmEH4VR",
        "colab": {
          "base_uri": "https://localhost:8080/",
          "height": 148
        },
        "outputId": "e4ad7c83-f78a-4fac-d30f-ecd2548c4177"
      },
      "source": [
        ">>>print(\"Hello,DiVYA\")\n",
        "Hello,DiVYA\n",
        ">>>"
      ],
      "execution_count": null,
      "outputs": [
        {
          "output_type": "error",
          "ename": "SyntaxError",
          "evalue": "ignored",
          "traceback": [
            "\u001b[0;36m  File \u001b[0;32m\"<ipython-input-1-519d2f469813>\"\u001b[0;36m, line \u001b[0;32m1\u001b[0m\n\u001b[0;31m    >>>print(\"Hello,DiVYA\")\u001b[0m\n\u001b[0m     ^\u001b[0m\n\u001b[0;31mSyntaxError\u001b[0m\u001b[0;31m:\u001b[0m invalid syntax\n"
          ]
        }
      ]
    },
    {
      "cell_type": "markdown",
      "metadata": {
        "id": "nuaUcqxpI6ov"
      },
      "source": [
        "    b) Write a program to purposefully rasie Indention Error and Correct it.\n",
        "    Error Code:\n",
        "    "
      ]
    },
    {
      "cell_type": "code",
      "metadata": {
        "id": "J_ewvZ38J9GC",
        "colab": {
          "base_uri": "https://localhost:8080/",
          "height": 166
        },
        "outputId": "91eb8b20-6252-4249-ff9c-d02a918b4b7e"
      },
      "source": [
        "if True:\n",
        "print(\"True\")\n",
        "else:\n",
        "    print(\"False\")\n",
        "   "
      ],
      "execution_count": null,
      "outputs": [
        {
          "output_type": "error",
          "ename": "IndentationError",
          "evalue": "ignored",
          "traceback": [
            "\u001b[0;36m  File \u001b[0;32m\"<ipython-input-2-8d4b9b84ca07>\"\u001b[0;36m, line \u001b[0;32m2\u001b[0m\n\u001b[0;31m    print(\"True\")\u001b[0m\n\u001b[0m        ^\u001b[0m\n\u001b[0;31mIndentationError\u001b[0m\u001b[0;31m:\u001b[0m expected an indented block\n"
          ]
        }
      ]
    },
    {
      "cell_type": "markdown",
      "metadata": {
        "id": "IOg4w7-LLW7K"
      },
      "source": [
        "  Correct code:"
      ]
    },
    {
      "cell_type": "code",
      "metadata": {
        "id": "yf4NH9niLf9T"
      },
      "source": [
        "if True:\n",
        "     print(\"True\")\n",
        "else:\n",
        "     print(\"False\")     "
      ],
      "execution_count": null,
      "outputs": []
    },
    {
      "cell_type": "markdown",
      "metadata": {
        "id": "wRS9TMZGMWRm"
      },
      "source": [
        " ex:2 Error Code\n",
        " "
      ]
    },
    {
      "cell_type": "code",
      "metadata": {
        "id": "pQVn9uULMhwY"
      },
      "source": [
        "if Ture:\n",
        "   print(\"True1\")\n",
        "      print(\"True2\")\n",
        "else:\n",
        "   print(\"False\")        "
      ],
      "execution_count": null,
      "outputs": []
    },
    {
      "cell_type": "markdown",
      "metadata": {
        "id": "Wj6iIUMJNYql"
      },
      "source": [
        "Correct Code:"
      ]
    },
    {
      "cell_type": "code",
      "metadata": {
        "id": "qr766sJyNlkk"
      },
      "source": [
        "if True:\n",
        "     print(\"True1\")\n",
        "     print(\"True2\")\n",
        "else:\n",
        "      print(\"False\")"
      ],
      "execution_count": null,
      "outputs": []
    },
    {
      "cell_type": "markdown",
      "metadata": {
        "id": "qRIQ78ChckFQ"
      },
      "source": [
        "            Exercise 2-Operations\n",
        "a) Write a program to compute distance between two points taking input from the user.\n",
        " \n",
        "Code:"
      ]
    },
    {
      "cell_type": "code",
      "metadata": {
        "id": "KVfRqOzOcoOf",
        "colab": {
          "base_uri": "https://localhost:8080/"
        },
        "outputId": "cfc3f7c1-3d85-4b8c-db62-db4990343970"
      },
      "source": [
        "import math\n",
        "x1=int(input(\"Enter x1 value:\")) \n",
        "x2=int(input(\"Enter x2 value:\"))\n",
        "y1=int(input(\"Enter y1 value:\"))\n",
        "y2=int(input(\"Enter y2 value:\"))\n",
        "d=math.sqrt(((x2-x1)**2)+((y2-y1)**2)) \n",
        "print(\"Distance of two points:\",d)"
      ],
      "execution_count": null,
      "outputs": [
        {
          "output_type": "stream",
          "text": [
            "Enter x1 value:4 \n",
            "Enter x2 value:2\n",
            "Enter y1 value:8\n",
            "Enter y2 value:4\n",
            "Distance of two points: 4.47213595499958\n"
          ],
          "name": "stdout"
        }
      ]
    },
    {
      "cell_type": "markdown",
      "metadata": {
        "id": "dk7Vj_h5DJBa"
      },
      "source": [
        "         ***Exercise-3 Control Flow*** \n",
        "a) Write a program for checking whether the given number is an even number or not.\n",
        " \n",
        "code:"
      ]
    },
    {
      "cell_type": "code",
      "metadata": {
        "id": "yP2LEIjTDNdk",
        "colab": {
          "base_uri": "https://localhost:8080/"
        },
        "outputId": "3e273cc4-24d9-46ef-d1f5-e62fa6d88e7f"
      },
      "source": [
        " \n",
        "n=int(input(\"Enter a number:\"))\n",
        "if n%2==0:\n",
        "    print(\"Given number is even\")   \n",
        "else:\n",
        "    print(\"Given number is Odd\")"
      ],
      "execution_count": null,
      "outputs": [
        {
          "output_type": "stream",
          "text": [
            "Enter a number:4\n",
            "Given number is even\n"
          ],
          "name": "stdout"
        }
      ]
    },
    {
      "cell_type": "markdown",
      "metadata": {
        "id": "Ixis735RDtAH"
      },
      "source": [
        "b)Using a for loop, write a program that prints out the decimal equivalents of 1/2,1/3,1/4,....1/10.\n",
        " \n",
        "Code:"
      ]
    },
    {
      "cell_type": "code",
      "metadata": {
        "id": "c-SjJAPfD5DV",
        "colab": {
          "base_uri": "https://localhost:8080/"
        },
        "outputId": "a413284e-f98f-4249-9f2e-d16e3a70b0c3"
      },
      "source": [
        "n=int(input(\"Enter a Number:\"))\n",
        "for i in range (2,n):\n",
        "  de=1/i\n",
        "  print(\"1/\"+str(i)+\"=\",de)"
      ],
      "execution_count": null,
      "outputs": [
        {
          "output_type": "stream",
          "text": [
            "Enter a Number:10\n",
            "1/2= 0.5\n",
            "1/3= 0.3333333333333333\n",
            "1/4= 0.25\n",
            "1/5= 0.2\n",
            "1/6= 0.16666666666666666\n",
            "1/7= 0.14285714285714285\n",
            "1/8= 0.125\n",
            "1/9= 0.1111111111111111\n"
          ],
          "name": "stdout"
        }
      ]
    },
    {
      "cell_type": "markdown",
      "metadata": {
        "id": "JvTifLYEEA2B"
      },
      "source": [
        " c) Write a program using a for loop over a sequence.what is sequence?\n",
        " \n",
        "Code:"
      ]
    },
    {
      "cell_type": "code",
      "metadata": {
        "id": "7b0jbwinEJCU",
        "colab": {
          "base_uri": "https://localhost:8080/"
        },
        "outputId": "99880ca9-7854-45de-fce9-4584c30de14e"
      },
      "source": [
        "array=[4,\"abc\",-14,'D',4.5,True,\"xyz\"]\n",
        "print(\"Given array:\",array) \n",
        "for x in array:\n",
        "    print(x)"
      ],
      "execution_count": null,
      "outputs": [
        {
          "output_type": "stream",
          "text": [
            "Given array: [4, 'abc', -14, 'D', 4.5, True, 'xyz']\n",
            "4\n",
            "abc\n",
            "-14\n",
            "D\n",
            "4.5\n",
            "True\n",
            "xyz\n"
          ],
          "name": "stdout"
        }
      ]
    },
    {
      "cell_type": "markdown",
      "metadata": {
        "id": "Oy0nX-7PFvvF"
      },
      "source": [
        " \n",
        " \n",
        "Exercise 4 - Control Flow Continued\n",
        " \n",
        "a) find the sum of all primes below 2 millions"
      ]
    },
    {
      "cell_type": "code",
      "metadata": {
        "id": "iPesFJWGF73c",
        "colab": {
          "base_uri": "https://localhost:8080/"
        },
        "outputId": "32a15de4-d743-44b4-9c10-03a5805573ec"
      },
      "source": [
        "import math\n",
        "def check_prime(num):\n",
        "    if num > 2 and num % 2 == 0:\n",
        "        return False\n",
        "    else:\n",
        "      \n",
        "        for i in range(3, int(math.sqrt(num)) + 1, 2):\n",
        "            if num % i == 0:\n",
        "                return False\n",
        "    return True\n",
        "n=int(input(\"Enter number: \"))\n",
        "sum = 0\n",
        "for i in range(2, n):\n",
        "        if check_prime(i):\n",
        "            print(i)\n",
        "            sum += i\n",
        "print(sum)"
      ],
      "execution_count": null,
      "outputs": [
        {
          "output_type": "stream",
          "text": [
            "Enter number: 100\n",
            "2\n",
            "3\n",
            "5\n",
            "7\n",
            "11\n",
            "13\n",
            "17\n",
            "19\n",
            "23\n",
            "29\n",
            "31\n",
            "37\n",
            "41\n",
            "43\n",
            "47\n",
            "53\n",
            "59\n",
            "61\n",
            "67\n",
            "71\n",
            "73\n",
            "79\n",
            "83\n",
            "89\n",
            "97\n",
            "1060\n"
          ],
          "name": "stdout"
        }
      ]
    },
    {
      "cell_type": "markdown",
      "metadata": {
        "id": "xqR-GDGkGTw3"
      },
      "source": [
        "b) Find the sum of all the primes below two million. Each new term in the Fibonacci sequence is generated by adding the previous two terms. Bystarting with 1 and 2, the first 10 terms will be: 1, 2, 3, 5, 8, 13, 21, 34, 55, 89, ..."
      ]
    },
    {
      "cell_type": "code",
      "metadata": {
        "id": "S7W8M-h5GegE",
        "colab": {
          "base_uri": "https://localhost:8080/"
        },
        "outputId": "ed7e2b62-9e3d-405b-c413-c6af90deed6a"
      },
      "source": [
        "a=0\n",
        "b=2\n",
        "sum=a+b\n",
        "n=int(input(\"Enter limit:\"))\n",
        "while (b<=n) :\n",
        "        c=4*b+a\n",
        "        if (c> n) :\n",
        "           break\n",
        "        a=b\n",
        "        b=c\n",
        "        sum=sum+c\n",
        "print(sum)"
      ],
      "execution_count": null,
      "outputs": [
        {
          "output_type": "stream",
          "text": [
            "Enter limit:10\n",
            "10\n"
          ],
          "name": "stdout"
        }
      ]
    },
    {
      "cell_type": "markdown",
      "metadata": {
        "id": "Gfj2QmtkHzV-"
      },
      "source": [
        "c) By considering the terms in the Fibonacci sequence whose values do not exceed four million,find the sum of the even-valued terms."
      ]
    },
    {
      "cell_type": "code",
      "metadata": {
        "id": "dnNtguMbH5ex",
        "colab": {
          "base_uri": "https://localhost:8080/"
        },
        "outputId": "bb7a6438-656e-440d-ff34-562e2b1c74d6"
      },
      "source": [
        "a=1\n",
        "b=2\n",
        "c=0\n",
        "sum=0\n",
        "while c<3000000:\n",
        "  c=a+b\n",
        "  a=b\n",
        "  b=c\n",
        "  if c%2==0:\n",
        "    sum+=c\n",
        "print()\n",
        "print(\"Sum of even numbers in fibonacci series\\n below 4 million is\",sum+2)"
      ],
      "execution_count": null,
      "outputs": [
        {
          "output_type": "stream",
          "text": [
            "\n",
            "Sum of even numbers in fibonacci series\n",
            " below 4 million is 4613732\n"
          ],
          "name": "stdout"
        }
      ]
    },
    {
      "cell_type": "markdown",
      "metadata": {
        "id": "DZ0zLBZUIWj_"
      },
      "source": [
        " \n",
        "        Exercise - 5 - DS\n",
        "a) Write a program to count the numbers of characters in the string and store them in adictionary data structure"
      ]
    },
    {
      "cell_type": "code",
      "metadata": {
        "id": "OnJ7xex1IjyE",
        "colab": {
          "base_uri": "https://localhost:8080/"
        },
        "outputId": "a900f18d-b314-4b17-fb78-4ffaa169b701"
      },
      "source": [
        "name=input (\"Enter a Name \") \n",
        "dic={}\n",
        " \n",
        "for ch in name:\n",
        "  keys=dic.keys() \n",
        " \n",
        "  if(ch in keys):\n",
        "    dic[ch]-dic[ch]+1\n",
        "  else:\n",
        "    dic[ch]=1\n",
        " \n",
        "print(\" Dictionary is:\",dic)"
      ],
      "execution_count": null,
      "outputs": [
        {
          "output_type": "stream",
          "text": [
            "Enter a Name Divya\n",
            " Dictionary is: {'D': 1, 'i': 1, 'v': 1, 'y': 1, 'a': 1}\n"
          ],
          "name": "stdout"
        }
      ]
    },
    {
      "cell_type": "markdown",
      "metadata": {
        "id": "pgVPZDs7JRn0"
      },
      "source": [
        "b) Write a program to use split and join methods in the string and trace a birthday with adictionary data structur"
      ]
    },
    {
      "cell_type": "code",
      "metadata": {
        "id": "UAh-Z0wjJS8O",
        "colab": {
          "base_uri": "https://localhost:8080/"
        },
        "outputId": "23a56b92-77b9-4271-ccc2-2fdb7d1eb528"
      },
      "source": [
        "dob={\"Divya\":\"14-feb-2002\", \"sri\":\" 04-05-2000\"}\n",
        " \n",
        "name=input(\"Which person DOB you want\") \n",
        "l=name.split () \n",
        "birth=\" \"\n",
        " \n",
        "for i in l:\n",
        "  if i in dob.keys():\n",
        "     Pers=i\n",
        " \n",
        "print(\" \".join([Pers, \"Birthday is\",dob[Pers]]))"
      ],
      "execution_count": null,
      "outputs": [
        {
          "output_type": "stream",
          "text": [
            "Which person DOB you wantDivya\n",
            "Divya Birthday is 14-feb-2002\n"
          ],
          "name": "stdout"
        }
      ]
    },
    {
      "cell_type": "markdown",
      "metadata": {
        "id": "kLpI1PjYJ5Zg"
      },
      "source": [
        "  Exercise - 6 DS - Continued\n",
        "a) Write a program combinelists that combines these lists into a dictionary"
      ]
    },
    {
      "cell_type": "code",
      "metadata": {
        "colab": {
          "base_uri": "https://localhost:8080/"
        },
        "id": "0nx54hLyKJQ4",
        "outputId": "a3e65562-bf5c-49b7-dce1-0a553a37f176"
      },
      "source": [
        "subj=[\"DAA\",\"OS\", \"DBMS\", \" P&S\", \"PPL\", \" SE\"]\n",
        "marks=[85,96,78,68,98,56]\n",
        " \n",
        "print(\"Given lists are:\") \n",
        "print(\"Subjects names:\",subj) \n",
        "print(\"Marks values:\",marks) \n",
        " \n",
        "dic=dict(zip(subj, marks)) \n",
        "print(\"\\n Dictionary:\",dic)"
      ],
      "execution_count": null,
      "outputs": [
        {
          "output_type": "stream",
          "text": [
            "Given lists are:\n",
            "Subjects names: ['DAA', 'OS', 'DBMS', ' P&S', 'PPL', ' SE']\n",
            "Marks values: [85, 96, 78, 68, 98, 56]\n",
            "\n",
            " Dictionary: {'DAA': 85, 'OS': 96, 'DBMS': 78, ' P&S': 68, 'PPL': 98, ' SE': 56}\n"
          ],
          "name": "stdout"
        }
      ]
    },
    {
      "cell_type": "markdown",
      "metadata": {
        "id": "7DZ9ZYpAKajC"
      },
      "source": [
        "b) Write a program to count frequency of characters in a given file. Can you use characterfrequency to tell whether the given file is a Python program file, C program file or a text file?"
      ]
    },
    {
      "cell_type": "code",
      "metadata": {
        "id": "3rO5YbNQKbXW"
      },
      "source": [
        "filetypes=['.py','.c','.txt']\n",
        "fn=input(\"Enter the file name:\") \n",
        "f=open(fn,\"r\") \n",
        "count=dict() \n",
        " \n",
        "print(\" Given file is \",end=\" \") \n",
        "for ft in filetypes:\n",
        " if(ft in fn):\n",
        "  if(ft=='.py'):\n",
        "    print(\"Python File\") \n",
        "  elif(ft=='.c'):\n",
        "    print(\"C File\") \n",
        "  elif(ft=='.txt'):\n",
        "    print(\"Text File\") \n",
        "for line in f:\n",
        "  for ch in line:\n",
        "      if ch in count:\n",
        "        count[ch]=count[ch]+1\n",
        "      else:\n",
        "        count[ch]=1\n",
        "print(count) \n",
        "fclose()"
      ],
      "execution_count": null,
      "outputs": []
    },
    {
      "cell_type": "markdown",
      "metadata": {
        "id": "Oh8tXxKFKhFO"
      },
      "source": [
        "OUTPUT:\n",
        "\n",
        "Enter the file name:div.py Given file is Python File {'i': 7, 'm': 3, 'p': 2, 'o': 2, 'r': 4, 't': 5, ' ': 5, 's': 9, 'y': 5, '\\n': 5, 'x': 2, '=': 3, 'n': 4, '(': 3, '.': 2, 'a': 3, 'g': 2, 'v': 2, '[': 2, '1': 1, ']': 2, ')': 3, '2': 1, 'u': 2, '+': 1, '\"': 2, 'T': 1, 'h': 1, 'e': 1, 'd': 2, ':': 1, ',': 1}"
      ]
    },
    {
      "cell_type": "markdown",
      "metadata": {
        "id": "0Q6TRx1GK9Am"
      },
      "source": [
        "EXCERCISE-7 files\n",
        " \n",
        "a) Write a program to print each line of a file in reverse order."
      ]
    },
    {
      "cell_type": "code",
      "metadata": {
        "id": "pGL81KIfLeLO"
      },
      "source": [
        "obj=open(\"sam.txt\",\"r\")\n",
        "if obj:\n",
        "    st=obj.read()\n",
        "    print(\"file content is:\")\n",
        "obj.close()\n",
        "\n",
        "print()\n",
        "lines=st.split('\\n')\n",
        "\n",
        "for ln in lines:\n",
        "    i=len(ln)-1\n",
        "    while(i>=0):\n",
        "      print(ln[i],end='')\n",
        "      i=i-1\n",
        "    print()"
      ],
      "execution_count": null,
      "outputs": []
    },
    {
      "cell_type": "markdown",
      "metadata": {
        "id": "z3DeExBuQe7w"
      },
      "source": [
        "File content is: welcome to python programming...! \n",
        "\n",
        "!..gnimmargorp nothyp ot emocleW"
      ]
    },
    {
      "cell_type": "markdown",
      "metadata": {
        "id": "X77eCD68LdEp"
      },
      "source": [
        "b) Write a program to compute the number of characters, words and lines in a file."
      ]
    },
    {
      "cell_type": "code",
      "metadata": {
        "id": "VZnT-zKXQV_5"
      },
      "source": [
        "file__IO =\"D:\\\\ab\\\\files\\\\book\\\\python.txt\"\n",
        "with open(file__IO, 'r') as f:\n",
        "    data = f.read()\n",
        "    line = data.splitlines()\n",
        "    words = data.split()\n",
        "    spaces = data.split(\" \")\n",
        "    charc = (len(data) - len(spaces))\n",
        "print('\\n Line number ::', len(line), '\\n Words number ::', len(words), '\\n Spaces ::', len(spaces), '\\n Characters ::', (len(data)-len(spaces)))"
      ],
      "execution_count": null,
      "outputs": []
    },
    {
      "cell_type": "markdown",
      "metadata": {
        "id": "9KwV85tTQcBd"
      },
      "source": [
        "output will be like:Line number :: 4 \n",
        "Words number :: 29 \n",
        "Spaces :: 26"
      ]
    },
    {
      "cell_type": "markdown",
      "metadata": {
        "id": "oKPTPwFzL0rI"
      },
      "source": [
        " EXCERCISE-8\n",
        " \n",
        "8 Functions'\n",
        " \n",
        "a) Write a function ball collide that takes two balls as parameters and computes if they arecolliding. Your function should return a Boolean representing whether or not the balls arecolliding. Hint: Represent a ball on a plane as a tuple of (x, y, r), r being the radius If (distance between two balls centers) <= (sum of their radii) then (they are colliding)"
      ]
    },
    {
      "cell_type": "code",
      "metadata": {
        "id": "BQmtOyhDP1iQ",
        "colab": {
          "base_uri": "https://localhost:8080/"
        },
        "outputId": "f77dd232-960a-4041-c30b-f7db3529a3a8"
      },
      "source": [
        "import math\n",
        "def ball_collide(ball_tuple1,ball_tuple2):\n",
        "    d=math.sqrt((ball_tuple1[0]-ball_tuple2[0])**2 + \n",
        " \n",
        "(ball_tuple1[1]-ball_tuple2[1])**2)\n",
        "    if(d<=(ball_tuple1[2]+ball_tuple2[2])):\n",
        "        return True\n",
        "    else:\n",
        "        return False\n",
        " \n",
        "ball_tuple1=(-2,-2,3)\n",
        "ball_tuple2=(1,1,3)\n",
        "collision=ball_collide(ball_tuple1,ball_tuple2)\n",
        "if(collision):\n",
        "    print(\"Balls are collide.\")\n",
        "else:\n",
        "    print(\"Balls are not collide.\")"
      ],
      "execution_count": null,
      "outputs": [
        {
          "output_type": "stream",
          "text": [
            "Balls are collide.\n"
          ],
          "name": "stdout"
        }
      ]
    },
    {
      "cell_type": "markdown",
      "metadata": {
        "id": "Gw-pfMgjMhuJ"
      },
      "source": [
        "b) Find mean, median, mode for the given set of numbers in a list."
      ]
    },
    {
      "cell_type": "code",
      "metadata": {
        "id": "1uixpOAFP7e3",
        "colab": {
          "base_uri": "https://localhost:8080/"
        },
        "outputId": "82025380-118a-4b1f-ba37-59149af1a9cb"
      },
      "source": [
        "import numpy as np\n",
        "from scipy import stats\n",
        "lst = [] \n",
        "lst = [int(item) for item in input(\"Enter the list items : \").split()] \n",
        "mean= np.mean(lst)\n",
        "median = np.median(lst)\n",
        "mode= stats.mode(lst)\n",
        "print(\"Mean: \", mean)\n",
        "print(\"Median: \", median)\n",
        "print(\"Mode: \", mode)"
      ],
      "execution_count": null,
      "outputs": [
        {
          "output_type": "stream",
          "text": [
            "Enter the list items : 5 4 8 2 1 9\n",
            "Mean:  4.833333333333333\n",
            "Median:  4.5\n",
            "Mode:  ModeResult(mode=array([1]), count=array([1]))\n"
          ],
          "name": "stdout"
        }
      ]
    },
    {
      "cell_type": "markdown",
      "metadata": {
        "id": "HfJE3zMZMi7L"
      },
      "source": [
        "Exercise - 9\n",
        " \n",
        "Functions - Continued\n",
        " \n",
        "a) Write a function nearly equal to test whether two strings are nearly equal. Two strings a and bare nearly equal when a can be generated by a single mutation on b."
      ]
    },
    {
      "cell_type": "code",
      "metadata": {
        "id": "rW7zS2CkQSU2",
        "colab": {
          "base_uri": "https://localhost:8080/"
        },
        "outputId": "3d63a50a-9ac7-4275-8343-cf027480b01d"
      },
      "source": [
        "string1 = input(\"Enter first string: \")\n",
        "string2 = input(\"Enter second string: \")\n",
        "if string1 == string2:\n",
        "    print(\"\\nBoth strings are equal to each other.\")\n",
        "    print(string1,\"==\",string2);\n",
        "else:\n",
        "    print(\"\\nStrings are not equal.\")\n",
        "    print(string1,\"!=\",string2);"
      ],
      "execution_count": null,
      "outputs": [
        {
          "output_type": "stream",
          "text": [
            "Enter first string: Divya\n",
            "Enter second string: Sri\n",
            "\n",
            "Strings are not equal.\n",
            "Divya != Sri\n"
          ],
          "name": "stdout"
        }
      ]
    },
    {
      "cell_type": "markdown",
      "metadata": {
        "id": "v7Ze_Z9bMnES"
      },
      "source": [
        "b) Write a function dup to find all duplicates in the list."
      ]
    },
    {
      "cell_type": "code",
      "metadata": {
        "id": "4XkhyLgDQEw_",
        "colab": {
          "base_uri": "https://localhost:8080/"
        },
        "outputId": "3c91a807-a92a-4605-9176-f985983521f6"
      },
      "source": [
        "from collections import Counter\n",
        "lst = [] \n",
        "lst = [int(item) for item in input(\"Enter the list items : \").split()] \n",
        "d = Counter(lst)\n",
        "print(d)\n",
        "new_lst = tuple([item for item in d if d[item]>1])\n",
        "print(new_lst)"
      ],
      "execution_count": null,
      "outputs": [
        {
          "output_type": "stream",
          "text": [
            "Enter the list items : 6 4 8 3 2 1\n",
            "Counter({6: 1, 4: 1, 8: 1, 3: 1, 2: 1, 1: 1})\n",
            "()\n"
          ],
          "name": "stdout"
        }
      ]
    },
    {
      "cell_type": "markdown",
      "metadata": {
        "id": "MiMUUKXZMrwq"
      },
      "source": [
        "c) Write a function unique to find all the unique elements of a list."
      ]
    },
    {
      "cell_type": "code",
      "metadata": {
        "id": "9Yq3mLNIQAU3",
        "colab": {
          "base_uri": "https://localhost:8080/"
        },
        "outputId": "90e73be9-fbd7-4685-a07c-e0890c6a20e3"
      },
      "source": [
        "from collections import Counter\n",
        "def unique(lst):\n",
        "    print(*Counter(lst))\n",
        "lst = [] \n",
        "lst = [int(item) for item in input(\"Enter the list items : \").split()] \n",
        "print(\"the unique values from list is\")\n",
        "unique(lst)"
      ],
      "execution_count": null,
      "outputs": [
        {
          "output_type": "stream",
          "text": [
            "Enter the list items : 3 8 4 2 1 7 9 4\n",
            "the unique values from list is\n",
            "3 8 4 2 1 7 9\n"
          ],
          "name": "stdout"
        }
      ]
    },
    {
      "cell_type": "markdown",
      "metadata": {
        "id": "TmRkTgltLzbQ"
      },
      "source": [
        "Exercise - 10\n",
        " \n",
        "Functions - Problem Solving\n",
        " \n",
        "a) Write a function cumulative product to compute cumulative product of a list of numbers."
      ]
    },
    {
      "cell_type": "code",
      "metadata": {
        "colab": {
          "base_uri": "https://localhost:8080/",
          "height": 571
        },
        "id": "nlGEAmhSy0-G",
        "outputId": "78602a31-97d3-4d44-8f13-297efb100cb6"
      },
      "source": [
        "def Cumulative_sum(lst):   \n",
        "    cum_list = []   \n",
        "    length = len(lst)   \n",
        "    cum_list = [sum(lst[0:x:1]) for x in range(0, length+1)]   \n",
        "    return cum_list[1:]  \n",
        "lst = [] \n",
        "lst = [int(item) for item in input(\"Enter the list items : \").split()] \n",
        "print (Cumulative_sum(lst))"
      ],
      "execution_count": null,
      "outputs": [
        {
          "output_type": "stream",
          "text": [
            "Enter the list items : 4 5 6\n"
          ],
          "name": "stdout"
        },
        {
          "output_type": "error",
          "ename": "TypeError",
          "evalue": "ignored",
          "traceback": [
            "\u001b[0;31m---------------------------------------------------------------------------\u001b[0m",
            "\u001b[0;31mTypeError\u001b[0m                                 Traceback (most recent call last)",
            "\u001b[0;32m<ipython-input-58-c0cc6639f533>\u001b[0m in \u001b[0;36m<module>\u001b[0;34m()\u001b[0m\n\u001b[1;32m      6\u001b[0m \u001b[0mlst\u001b[0m \u001b[0;34m=\u001b[0m \u001b[0;34m[\u001b[0m\u001b[0;34m]\u001b[0m\u001b[0;34m\u001b[0m\u001b[0;34m\u001b[0m\u001b[0m\n\u001b[1;32m      7\u001b[0m \u001b[0mlst\u001b[0m \u001b[0;34m=\u001b[0m \u001b[0;34m[\u001b[0m\u001b[0mint\u001b[0m\u001b[0;34m(\u001b[0m\u001b[0mitem\u001b[0m\u001b[0;34m)\u001b[0m \u001b[0;32mfor\u001b[0m \u001b[0mitem\u001b[0m \u001b[0;32min\u001b[0m \u001b[0minput\u001b[0m\u001b[0;34m(\u001b[0m\u001b[0;34m\"Enter the list items : \"\u001b[0m\u001b[0;34m)\u001b[0m\u001b[0;34m.\u001b[0m\u001b[0msplit\u001b[0m\u001b[0;34m(\u001b[0m\u001b[0;34m)\u001b[0m\u001b[0;34m]\u001b[0m\u001b[0;34m\u001b[0m\u001b[0;34m\u001b[0m\u001b[0m\n\u001b[0;32m----> 8\u001b[0;31m \u001b[0mprint\u001b[0m \u001b[0;34m(\u001b[0m\u001b[0mCumulative_sum\u001b[0m\u001b[0;34m(\u001b[0m\u001b[0mlst\u001b[0m\u001b[0;34m)\u001b[0m\u001b[0;34m)\u001b[0m\u001b[0;34m\u001b[0m\u001b[0;34m\u001b[0m\u001b[0m\n\u001b[0m",
            "\u001b[0;32m<ipython-input-58-c0cc6639f533>\u001b[0m in \u001b[0;36mCumulative_sum\u001b[0;34m(lst)\u001b[0m\n\u001b[1;32m      2\u001b[0m     \u001b[0mcum_list\u001b[0m \u001b[0;34m=\u001b[0m \u001b[0;34m[\u001b[0m\u001b[0;34m]\u001b[0m\u001b[0;34m\u001b[0m\u001b[0;34m\u001b[0m\u001b[0m\n\u001b[1;32m      3\u001b[0m     \u001b[0mlength\u001b[0m \u001b[0;34m=\u001b[0m \u001b[0mlen\u001b[0m\u001b[0;34m(\u001b[0m\u001b[0mlst\u001b[0m\u001b[0;34m)\u001b[0m\u001b[0;34m\u001b[0m\u001b[0;34m\u001b[0m\u001b[0m\n\u001b[0;32m----> 4\u001b[0;31m     \u001b[0mcum_list\u001b[0m \u001b[0;34m=\u001b[0m \u001b[0;34m[\u001b[0m\u001b[0msum\u001b[0m\u001b[0;34m(\u001b[0m\u001b[0mlst\u001b[0m\u001b[0;34m[\u001b[0m\u001b[0;36m0\u001b[0m\u001b[0;34m:\u001b[0m\u001b[0mx\u001b[0m\u001b[0;34m:\u001b[0m\u001b[0;36m1\u001b[0m\u001b[0;34m]\u001b[0m\u001b[0;34m)\u001b[0m \u001b[0;32mfor\u001b[0m \u001b[0mx\u001b[0m \u001b[0;32min\u001b[0m \u001b[0mrange\u001b[0m\u001b[0;34m(\u001b[0m\u001b[0;36m0\u001b[0m\u001b[0;34m,\u001b[0m \u001b[0mlength\u001b[0m\u001b[0;34m+\u001b[0m\u001b[0;36m1\u001b[0m\u001b[0;34m)\u001b[0m\u001b[0;34m]\u001b[0m\u001b[0;34m\u001b[0m\u001b[0;34m\u001b[0m\u001b[0m\n\u001b[0m\u001b[1;32m      5\u001b[0m     \u001b[0;32mreturn\u001b[0m \u001b[0mcum_list\u001b[0m\u001b[0;34m[\u001b[0m\u001b[0;36m1\u001b[0m\u001b[0;34m:\u001b[0m\u001b[0;34m]\u001b[0m\u001b[0;34m\u001b[0m\u001b[0;34m\u001b[0m\u001b[0m\n\u001b[1;32m      6\u001b[0m \u001b[0mlst\u001b[0m \u001b[0;34m=\u001b[0m \u001b[0;34m[\u001b[0m\u001b[0;34m]\u001b[0m\u001b[0;34m\u001b[0m\u001b[0;34m\u001b[0m\u001b[0m\n",
            "\u001b[0;32m<ipython-input-58-c0cc6639f533>\u001b[0m in \u001b[0;36m<listcomp>\u001b[0;34m(.0)\u001b[0m\n\u001b[1;32m      2\u001b[0m     \u001b[0mcum_list\u001b[0m \u001b[0;34m=\u001b[0m \u001b[0;34m[\u001b[0m\u001b[0;34m]\u001b[0m\u001b[0;34m\u001b[0m\u001b[0;34m\u001b[0m\u001b[0m\n\u001b[1;32m      3\u001b[0m     \u001b[0mlength\u001b[0m \u001b[0;34m=\u001b[0m \u001b[0mlen\u001b[0m\u001b[0;34m(\u001b[0m\u001b[0mlst\u001b[0m\u001b[0;34m)\u001b[0m\u001b[0;34m\u001b[0m\u001b[0;34m\u001b[0m\u001b[0m\n\u001b[0;32m----> 4\u001b[0;31m     \u001b[0mcum_list\u001b[0m \u001b[0;34m=\u001b[0m \u001b[0;34m[\u001b[0m\u001b[0msum\u001b[0m\u001b[0;34m(\u001b[0m\u001b[0mlst\u001b[0m\u001b[0;34m[\u001b[0m\u001b[0;36m0\u001b[0m\u001b[0;34m:\u001b[0m\u001b[0mx\u001b[0m\u001b[0;34m:\u001b[0m\u001b[0;36m1\u001b[0m\u001b[0;34m]\u001b[0m\u001b[0;34m)\u001b[0m \u001b[0;32mfor\u001b[0m \u001b[0mx\u001b[0m \u001b[0;32min\u001b[0m \u001b[0mrange\u001b[0m\u001b[0;34m(\u001b[0m\u001b[0;36m0\u001b[0m\u001b[0;34m,\u001b[0m \u001b[0mlength\u001b[0m\u001b[0;34m+\u001b[0m\u001b[0;36m1\u001b[0m\u001b[0;34m)\u001b[0m\u001b[0;34m]\u001b[0m\u001b[0;34m\u001b[0m\u001b[0;34m\u001b[0m\u001b[0m\n\u001b[0m\u001b[1;32m      5\u001b[0m     \u001b[0;32mreturn\u001b[0m \u001b[0mcum_list\u001b[0m\u001b[0;34m[\u001b[0m\u001b[0;36m1\u001b[0m\u001b[0;34m:\u001b[0m\u001b[0;34m]\u001b[0m\u001b[0;34m\u001b[0m\u001b[0;34m\u001b[0m\u001b[0m\n\u001b[1;32m      6\u001b[0m \u001b[0mlst\u001b[0m \u001b[0;34m=\u001b[0m \u001b[0;34m[\u001b[0m\u001b[0;34m]\u001b[0m\u001b[0;34m\u001b[0m\u001b[0;34m\u001b[0m\u001b[0m\n",
            "\u001b[0;31mTypeError\u001b[0m: 'int' object is not callable"
          ]
        }
      ]
    },
    {
      "cell_type": "markdown",
      "metadata": {
        "id": "Fpw8d8aBl_Du"
      },
      "source": [
        "b) Write a function reverse to reverse a list. Without using the reverse function."
      ]
    },
    {
      "cell_type": "code",
      "metadata": {
        "id": "itBvZ0pIOnkO",
        "colab": {
          "base_uri": "https://localhost:8080/"
        },
        "outputId": "f2955a57-c995-46f6-cd2e-902314257181"
      },
      "source": [
        "def Reverse(lst):\n",
        "    new_lst = lst[::-1]\n",
        "    return new_lst\n",
        "lst = [] \n",
        "lst = [int(item) for item in input(\"Enter the list items : \").split()] \n",
        "print(Reverse(lst))"
      ],
      "execution_count": null,
      "outputs": [
        {
          "output_type": "stream",
          "text": [
            "Enter the list items : 5 7 8 3 6 4\n",
            "[4, 6, 3, 8, 7, 5]\n"
          ],
          "name": "stdout"
        }
      ]
    },
    {
      "cell_type": "markdown",
      "metadata": {
        "id": "jgcwQNNJO2_4"
      },
      "source": [
        "c) Write function to compute gcd, lcm of two numbers. Each function shouldn’t exceed one line"
      ]
    },
    {
      "cell_type": "code",
      "metadata": {
        "id": "5j8iLqH0PVNy",
        "colab": {
          "base_uri": "https://localhost:8080/"
        },
        "outputId": "c55e114d-f0a4-4c1f-f84d-3557416ad330"
      },
      "source": [
        "gcd=lambda a,b: a if b==0 else gcd(a,a%b)\n",
        "lcm=lambda a,b: (a*b)/gcd(a,b)\n",
        " \n",
        "x=4\n",
        "y=24\n",
        "print(\"gcd=\",gcd(x,y))\n",
        "print(\"lcm=\",lcm(x,y))"
      ],
      "execution_count": null,
      "outputs": [
        {
          "output_type": "stream",
          "text": [
            "gcd= 4\n",
            "lcm= 24.0\n"
          ],
          "name": "stdout"
        }
      ]
    },
    {
      "cell_type": "code",
      "metadata": {
        "colab": {
          "base_uri": "https://localhost:8080/"
        },
        "id": "QJGWRlnuuku2",
        "outputId": "8a498fdb-5c1e-46fa-e1e3-0877b1933149"
      },
      "source": [
        "def Cumulative_sum(lst):   \n",
        "    cum_list = []   \n",
        "    length = len(lst)   \n",
        "    cum_list = [sum(lst[0:x:1]) for x in range(0, length+1)]   \n",
        "    return cum_list[1:]  \n",
        "lst = [] \n",
        "lst = [int(item) for item in input(\"Enter the list items : \").split()] \n",
        "print (Cumulative_sum)"
      ],
      "execution_count": null,
      "outputs": [
        {
          "output_type": "stream",
          "text": [
            "Enter the list items : 5 \n",
            "<function Cumulative_sum at 0x7fcdd18a7320>\n"
          ],
          "name": "stdout"
        }
      ]
    }
  ]
}