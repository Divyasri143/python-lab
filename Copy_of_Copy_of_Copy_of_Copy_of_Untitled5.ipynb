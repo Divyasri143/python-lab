{
  "nbformat": 4,
  "nbformat_minor": 0,
  "metadata": {
    "colab": {
      "name": "Copy of Copy of Copy of Copy of Untitled5.ipynb",
      "provenance": [],
      "collapsed_sections": [],
      "authorship_tag": "ABX9TyPHOKzJqp0qohvtxlb0Oqtv",
      "include_colab_link": true
    },
    "kernelspec": {
      "name": "python3",
      "display_name": "Python 3"
    },
    "language_info": {
      "name": "python"
    }
  },
  "cells": [
    {
      "cell_type": "markdown",
      "metadata": {
        "id": "view-in-github",
        "colab_type": "text"
      },
      "source": [
        "<a href=\"https://colab.research.google.com/github/Divyasri143/python-lab/blob/main/Copy_of_Copy_of_Copy_of_Copy_of_Untitled5.ipynb\" target=\"_parent\"><img src=\"https://colab.research.google.com/assets/colab-badge.svg\" alt=\"Open In Colab\"/></a>"
      ]
    },
    {
      "cell_type": "markdown",
      "metadata": {
        "id": "YqBukv86dA0J"
      },
      "source": [
        "                                       \n",
        "                                       ***Exercise-3 Control Flow*** "
      ]
    },
    {
      "cell_type": "markdown",
      "metadata": {
        "id": "LNFCQ5EcfSrg"
      },
      "source": [
        "a) Write a program for checking whether the given number is an even number or not.\n",
        "\n",
        "code:\n"
      ]
    },
    {
      "cell_type": "code",
      "metadata": {
        "colab": {
          "base_uri": "https://localhost:8080/"
        },
        "id": "bzbr5qLef20t",
        "outputId": "208be207-11a0-477d-ff3f-92de72d55558"
      },
      "source": [
        "\n",
        "n=int(input(\"Enter a number:\"))\n",
        "if n%2==0:\n",
        "    print(\"Given number is even\")   \n",
        "else:\n",
        "    print(\"Given number is Odd\")"
      ],
      "execution_count": null,
      "outputs": [
        {
          "output_type": "stream",
          "text": [
            "Enter a number:44\n",
            "Given number is even\n"
          ],
          "name": "stdout"
        }
      ]
    },
    {
      "cell_type": "markdown",
      "metadata": {
        "id": "FHtflk8Qjnxb"
      },
      "source": [
        "b)Using a for loop, write a program that prints out the decimal equivalents of 1/2,1/3,1/4,....1/10.\n",
        "\n",
        "Code:\n"
      ]
    },
    {
      "cell_type": "code",
      "metadata": {
        "colab": {
          "base_uri": "https://localhost:8080/"
        },
        "id": "dilDKefIlImR",
        "outputId": "5baba3c2-09e4-4637-d860-f49f49090054"
      },
      "source": [
        "n=int(input(\"Enter a Number:\"))\n",
        "for i in range (2,n):\n",
        "  de=1/i\n",
        "  print(\"1/\"+str(i)+\"=\",de)"
      ],
      "execution_count": null,
      "outputs": [
        {
          "output_type": "stream",
          "text": [
            "Enter a Number:10\n",
            "1/2= 0.5\n",
            "1/3= 0.3333333333333333\n",
            "1/4= 0.25\n",
            "1/5= 0.2\n",
            "1/6= 0.16666666666666666\n",
            "1/7= 0.14285714285714285\n",
            "1/8= 0.125\n",
            "1/9= 0.1111111111111111\n"
          ],
          "name": "stdout"
        }
      ]
    },
    {
      "cell_type": "markdown",
      "metadata": {
        "id": "G5DPsF72piGT"
      },
      "source": [
        "c) Write a program using a for loop over a sequence.what is sequence?\n",
        "\n",
        "Code:\n"
      ]
    },
    {
      "cell_type": "code",
      "metadata": {
        "colab": {
          "base_uri": "https://localhost:8080/"
        },
        "id": "nrYo_aZNqEka",
        "outputId": "4de4b735-0bf3-4253-8c2c-e4361940a6bd"
      },
      "source": [
        "array=[4,\"abc\",-14,'D',4.5,True,\"xyz\"]\n",
        "print(\"Given array:\",array) \n",
        "for x in array:\n",
        "    print(x)"
      ],
      "execution_count": null,
      "outputs": [
        {
          "output_type": "stream",
          "text": [
            "Given array: [4, 'abc', -14, 'D', 4.5, True, 'xyz']\n",
            "4\n",
            "abc\n",
            "-14\n",
            "D\n",
            "4.5\n",
            "True\n",
            "xyz\n"
          ],
          "name": "stdout"
        }
      ]
    },
    {
      "cell_type": "markdown",
      "metadata": {
        "id": "qaoU-olDuHo_"
      },
      "source": [
        "d) Write a program using a while loop that asks the user for a number, and prints a countdown  from that number to zero.\n",
        "\n",
        "Code:\n",
        "\n"
      ]
    },
    {
      "cell_type": "code",
      "metadata": {
        "colab": {
          "base_uri": "https://localhost:8080/"
        },
        "id": "oA3ab_Krurac",
        "outputId": "c94ad6c1-1b64-4449-9c02-c04ba3c924f6"
      },
      "source": [
        "n=int(input(\"Enter value of n :\"))\n",
        "while n>=0:\n",
        "  print(n)\n",
        "  n-=1"
      ],
      "execution_count": null,
      "outputs": [
        {
          "output_type": "stream",
          "text": [
            "Enter value of n :10\n",
            "10\n",
            "9\n",
            "8\n",
            "7\n",
            "6\n",
            "5\n",
            "4\n",
            "3\n",
            "2\n",
            "1\n",
            "0\n"
          ],
          "name": "stdout"
        }
      ]
    }
  ]
}