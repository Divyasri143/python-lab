{
  "nbformat": 4,
  "nbformat_minor": 0,
  "metadata": {
    "colab": {
      "name": "Copy of  Python programming lab .ipynb",
      "provenance": [],
      "collapsed_sections": [],
      "authorship_tag": "ABX9TyMSf9IypEg4bg9MDV6+K8PQ",
      "include_colab_link": true
    },
    "kernelspec": {
      "display_name": "Python 3",
      "name": "python3"
    },
    "language_info": {
      "name": "python"
    }
  },
  "cells": [
    {
      "cell_type": "markdown",
      "metadata": {
        "id": "view-in-github",
        "colab_type": "text"
      },
      "source": [
        "<a href=\"https://colab.research.google.com/github/Divyasri143/python-lab/blob/main/Copy_of_Python_programming_lab_.ipynb\" target=\"_parent\"><img src=\"https://colab.research.google.com/assets/colab-badge.svg\" alt=\"Open In Colab\"/></a>"
      ]
    },
    {
      "cell_type": "markdown",
      "metadata": {
        "id": "Uug5ugNgGJZh"
      },
      "source": [
        "**Name**:**Challa** **Divya** **sri**.                                         \n",
        "**Regd**:**19A21A0574**.                                  \n",
        "**Branch**:**CSE**-**B**.                                         \n",
        "**Subject**: **Python** **Programming**"
      ]
    },
    {
      "cell_type": "markdown",
      "metadata": {
        "id": "hsMAqmzm4yd0"
      },
      "source": [
        "Exercise 1-Basics \n",
        " \n",
        "       a) Running instructions in Interactive interpreter and a Python Script\n",
        "       code:"
      ]
    },
    {
      "cell_type": "markdown",
      "metadata": {
        "id": "sjhPTATeUf0V"
      },
      "source": [
        "AIM:\n",
        "\n",
        "a) Running instructions in Interactive interpreter and a Python Script\n",
        "\n",
        "DESCRIPTION:\n",
        "\n",
        "Python is a high-level, interpreted, interactive and object-oriented scripting language. Python is designed to be highly readable. It uses English keywords frequently where as other languages use punctuation, and it has fewer syntactical constructions than other languages.\n",
        "\n",
        "Python is Interpreted\n",
        "\n",
        "Python is Interactive\n",
        "\n",
        "Python is Object-Oriented\n",
        "\n",
        "Python is a Beginner's Language\n",
        "\n",
        "Python Programming Running Python Scripts\n",
        "\n",
        "Running Python in THREE ways:\n",
        "\n",
        "a) Running Python Interpreter\n",
        "\n",
        "b) Running Python Scripts in IDLE\n",
        "\n",
        "c) Running python scripts in Command Prompt\n",
        "\n",
        "a) Running Python Interpreter: Python comes with an interactive interpreter. When you type python in your shell or command prompt, the python interpreter becomes active with a >>> prompt and waits for your commands\n",
        "\n",
        "b) Running Python Scripts in IDLE: . Go to File menu click on New File (CTRL+N) and write the code and save first.py\n",
        "\n",
        "c) *Running python scripts in Command Prompt: * · Before going to run we have to check the PATH in environment variables."
      ]
    },
    {
      "cell_type": "code",
      "metadata": {
        "colab": {
          "base_uri": "https://localhost:8080/",
          "height": 148
        },
        "id": "YHv8stmEH4VR",
        "outputId": "401b4e2a-6732-4b8c-f528-b0e0d4fbf6ce"
      },
      "source": [
        ">>>print(\"Hello,DiVYA\")\n",
        "Hello,DiVYA\n",
        ">>>"
      ],
      "execution_count": null,
      "outputs": [
        {
          "ename": "SyntaxError",
          "evalue": "ignored",
          "output_type": "error",
          "traceback": [
            "\u001b[0;36m  File \u001b[0;32m\"<ipython-input-18-519d2f469813>\"\u001b[0;36m, line \u001b[0;32m1\u001b[0m\n\u001b[0;31m    >>>print(\"Hello,DiVYA\")\u001b[0m\n\u001b[0m     ^\u001b[0m\n\u001b[0;31mSyntaxError\u001b[0m\u001b[0;31m:\u001b[0m invalid syntax\n"
          ]
        }
      ]
    },
    {
      "cell_type": "markdown",
      "metadata": {
        "id": "nuaUcqxpI6ov"
      },
      "source": [
        "    b) Write a program to purposefully rasie Indention Error and Correct it.\n",
        "    Error Code:\n",
        "    "
      ]
    },
    {
      "cell_type": "markdown",
      "metadata": {
        "id": "B_atnmm1U4lc"
      },
      "source": [
        "AIM:\n",
        "\n",
        "To Write a program to purposefully raise Indentation Error and Correct it\n",
        "\n",
        "DESCRIPTION:\n",
        "\n",
        "Indentation\n",
        "\n",
        "Python does not support braces to indicate blocks of code for class and function definitions or flow control.\n",
        "\n",
        "->Blocks of code are denoted by line indentation.\n",
        "\n",
        "->All the continuous lines indented with same number of spaces would form a block.\n",
        "\n",
        "->Python strictly follow indentation rules to indicate the blocks.\n",
        "\n"
      ]
    },
    {
      "cell_type": "code",
      "metadata": {
        "colab": {
          "base_uri": "https://localhost:8080/",
          "height": 166
        },
        "id": "J_ewvZ38J9GC",
        "outputId": "ff6337c2-3fd1-4a59-8145-b47718904227"
      },
      "source": [
        "if True:\n",
        "print(\"True\")\n",
        "else:\n",
        "    print(\"False\")"
      ],
      "execution_count": null,
      "outputs": [
        {
          "ename": "IndentationError",
          "evalue": "ignored",
          "output_type": "error",
          "traceback": [
            "\u001b[0;36m  File \u001b[0;32m\"<ipython-input-19-f8138ed06b06>\"\u001b[0;36m, line \u001b[0;32m2\u001b[0m\n\u001b[0;31m    print(\"True\")\u001b[0m\n\u001b[0m        ^\u001b[0m\n\u001b[0;31mIndentationError\u001b[0m\u001b[0;31m:\u001b[0m expected an indented block\n"
          ]
        }
      ]
    },
    {
      "cell_type": "markdown",
      "metadata": {
        "id": "IOg4w7-LLW7K"
      },
      "source": [
        "  Correct code:"
      ]
    },
    {
      "cell_type": "code",
      "metadata": {
        "id": "yf4NH9niLf9T",
        "colab": {
          "base_uri": "https://localhost:8080/"
        },
        "outputId": "f715a13f-63e8-42d9-c263-09fb4b6de624"
      },
      "source": [
        "if True:\n",
        "     print(\"True\")\n",
        "else:\n",
        "     print(\"False\")"
      ],
      "execution_count": null,
      "outputs": [
        {
          "output_type": "stream",
          "name": "stdout",
          "text": [
            "True\n"
          ]
        }
      ]
    },
    {
      "cell_type": "markdown",
      "metadata": {
        "id": "wRS9TMZGMWRm"
      },
      "source": [
        " ex:2 Error Code\n",
        " "
      ]
    },
    {
      "cell_type": "code",
      "metadata": {
        "id": "pQVn9uULMhwY",
        "colab": {
          "base_uri": "https://localhost:8080/",
          "height": 166
        },
        "outputId": "2ba1e0a1-1965-49a2-8f5e-1b3f53d97539"
      },
      "source": [
        "if Ture:\n",
        "   print(\"True1\")\n",
        "      print(\"True2\")\n",
        "else:\n",
        "   print(\"False\")"
      ],
      "execution_count": null,
      "outputs": [
        {
          "output_type": "error",
          "ename": "IndentationError",
          "evalue": "ignored",
          "traceback": [
            "\u001b[0;36m  File \u001b[0;32m\"<ipython-input-1-c6e2cc36348e>\"\u001b[0;36m, line \u001b[0;32m3\u001b[0m\n\u001b[0;31m    print(\"True2\")\u001b[0m\n\u001b[0m    ^\u001b[0m\n\u001b[0;31mIndentationError\u001b[0m\u001b[0;31m:\u001b[0m unexpected indent\n"
          ]
        }
      ]
    },
    {
      "cell_type": "markdown",
      "metadata": {
        "id": "Wj6iIUMJNYql"
      },
      "source": [
        "Correct Code:"
      ]
    },
    {
      "cell_type": "code",
      "metadata": {
        "id": "qr766sJyNlkk"
      },
      "source": [
        "if True:\n",
        "     print(\"True1\")\n",
        "     print(\"True2\")\n",
        "else:\n",
        "      print(\"False\")"
      ],
      "execution_count": null,
      "outputs": []
    },
    {
      "cell_type": "markdown",
      "metadata": {
        "id": "qRIQ78ChckFQ"
      },
      "source": [
        "            Exercise 2-Operations\n",
        "a) Write a program to compute distance between two points taking input from the user.\n",
        " \n",
        "Code:"
      ]
    },
    {
      "cell_type": "markdown",
      "metadata": {
        "id": "XGY1NoaoWCiG"
      },
      "source": [
        "**AIM**:\n",
        "\n",
        "TO COMPUTE DISTANCE BETWEEN TWO POINTS\n",
        "\n",
        "\n",
        "**DESCRIPTION**:\n",
        "\n",
        "**Taking Input From the User:**\n",
        "A function is defined as a block of organized, reusable code used to perform a single, related action. Python has many built-in functions; you can also create your own. \n",
        "\n",
        "Python has an input function which lets you ask a user for some text input. You call this function to tell the program to stop and wait for the user to key in the data.\n",
        "\n",
        " In Python 2, you have a built-in function raw_input(), whereas in Python 3, you have input(). The program will resume once the user presses the ENTER or RETURN key.\n",
        "\n",
        " **Input Function**\n",
        "\n",
        "input(prompt=None,/). \n",
        "\n",
        "Read a string from standard input. The trailing newline is stripped. \n",
        "\n",
        "The prompt string, if given, is printed to standard output without a trailing newline before reading input. \n",
        "\n",
        "If the user hits EOF (*nix: Ctrl-D, Windows: Ctrl Z+Return), raise EOFError."
      ]
    },
    {
      "cell_type": "code",
      "metadata": {
        "colab": {
          "base_uri": "https://localhost:8080/"
        },
        "id": "KVfRqOzOcoOf",
        "outputId": "cfc3f7c1-3d85-4b8c-db62-db4990343970"
      },
      "source": [
        "import math\n",
        "x1=int(input(\"Enter x1 value:\")) \n",
        "x2=int(input(\"Enter x2 value:\"))\n",
        "y1=int(input(\"Enter y1 value:\"))\n",
        "y2=int(input(\"Enter y2 value:\"))\n",
        "d=math.sqrt(((x2-x1)**2)+((y2-y1)**2)) \n",
        "print(\"Distance of two points:\",d)"
      ],
      "execution_count": null,
      "outputs": [
        {
          "name": "stdout",
          "output_type": "stream",
          "text": [
            "Enter x1 value:4 \n",
            "Enter x2 value:2\n",
            "Enter y1 value:8\n",
            "Enter y2 value:4\n",
            "Distance of two points: 4.47213595499958\n"
          ]
        }
      ]
    },
    {
      "cell_type": "markdown",
      "metadata": {
        "id": "JobaASAiWsRC"
      },
      "source": [
        "B.TAKE TWO NUMBERS ON COMMAND LINE ARGUMENTS AND PRINT THE SUM.\n",
        "\n"
      ]
    },
    {
      "cell_type": "markdown",
      "metadata": {
        "id": "-ZrYBkCtWskU"
      },
      "source": [
        "**AIM**:\n",
        "\n",
        "TAKE TWO NUMBERS ON COMMAND LINE ARGUMENTS AND PRINT THE SUM\n",
        "\n",
        "**DESCRIPTION**:\n",
        "\n",
        "The arguments that are given after the name of the program in the command line shell of the operating system are known as Command Line Arguments. Python provides various ways of dealing with these types of arguments. The three most common are:\n",
        "\n",
        "Using sys.argv\n",
        "\n",
        "Using getopt module\n",
        "\n",
        "Using argparse module\n",
        "\n",
        "Using sys.argv\n",
        "\n",
        "The sys module provides functions and variables used to manipulate different parts of the Python runtime environment. This module provides access to some variables used or maintained by the interpreter and to functions that interact strongly with the interpreter.\n",
        "\n",
        "One such variable is sys.argv which is a simple list structure. It’s main purpose are:\n",
        "\n",
        "It is a list of command line arguments.\n",
        "\n",
        "len(sys.argv) provides the number of command line arguments.\n",
        "\n",
        "sys.argv[0] is the name of the current Python script."
      ]
    },
    {
      "cell_type": "code",
      "metadata": {
        "id": "hkaVV2gBW_O3"
      },
      "source": [
        "import sys\n",
        "a=sys.argv[1]\n",
        "b=sys.argv[2]\n",
        "sum=int(a)+int(b)\n",
        "print(\"summ of two number is:\",sum)\n"
      ],
      "execution_count": null,
      "outputs": []
    },
    {
      "cell_type": "markdown",
      "metadata": {
        "id": "_KBO0hewXqfM"
      },
      "source": [
        "**output**\n",
        "\n",
        "\n",
        "\n",
        "C:\\Users\\divya sri\\Desktop\\python files>python commd.py 40 30\n",
        "summ of two number is: 70\n",
        "\n",
        "C:\\Users\\divya sri\\Desktop\\python files>\n",
        "\n"
      ]
    },
    {
      "cell_type": "markdown",
      "metadata": {
        "id": "dk7Vj_h5DJBa"
      },
      "source": [
        "         ***Exercise-3 Control Flow*** \n",
        "a) Write a program for checking whether the given number is an even number or not.\n",
        " \n",
        "code:"
      ]
    },
    {
      "cell_type": "markdown",
      "metadata": {
        "id": "Wx-AYfRcYV9-"
      },
      "source": [
        "**AIM**:\n",
        "\n",
        "a) Write a Program for checking whether the given number is an even number or not.\n",
        "\n",
        "**DESCRIPTION**:\n",
        "\n",
        "if..else Statement When there is an alternate operation in control flow, use an else statement alongside with if statement. The general format is\n",
        "\n",
        "if condition:\n",
        "\n",
        "    true statement\n",
        "else:\n",
        "\n",
        "     false statement"
      ]
    },
    {
      "cell_type": "code",
      "metadata": {
        "colab": {
          "base_uri": "https://localhost:8080/"
        },
        "id": "yP2LEIjTDNdk",
        "outputId": "a5b33eb8-6944-46cc-ed74-d346914cbdd1"
      },
      "source": [
        " \n",
        "n=int(input(\"Enter a number:\"))\n",
        "if n%2==0:\n",
        "    print(\"Given number is even\")   \n",
        "else:\n",
        "    print(\"Given number is Odd\")"
      ],
      "execution_count": null,
      "outputs": [
        {
          "name": "stdout",
          "output_type": "stream",
          "text": [
            "Enter a number:4\n",
            "Given number is even\n"
          ]
        }
      ]
    },
    {
      "cell_type": "markdown",
      "metadata": {
        "id": "Ixis735RDtAH"
      },
      "source": [
        "b)Using a for loop, write a program that prints out the decimal equivalents of 1/2,1/3,1/4,....1/10.\n",
        " \n",
        "Code:"
      ]
    },
    {
      "cell_type": "markdown",
      "metadata": {
        "id": "T3c4HndpY8jm"
      },
      "source": [
        "**AIM**:\n",
        "\n",
        "b) Using a for loop, write a program that prints out the decimal equivalents of 1/2, 1/3, 1/4, . . .1/10\n",
        "\n",
        "**DESCRIPTION**\n",
        "\n",
        "For Loop: For loops can iterate over a sequence of numbers using the \"range\" and \"xrange\" functions. The difference between range and xrange is that the range function returns a new list with numbers of that specified range, whereas xrange returns an iterator, which is more efficient.\n",
        "\n",
        "The general format is\n",
        "\n",
        "for x in range(start,stop,step):\n",
        "\n",
        "statements"
      ]
    },
    {
      "cell_type": "code",
      "metadata": {
        "colab": {
          "base_uri": "https://localhost:8080/"
        },
        "id": "c-SjJAPfD5DV",
        "outputId": "a413284e-f98f-4249-9f2e-d16e3a70b0c3"
      },
      "source": [
        "n=int(input(\"Enter a Number:\"))\n",
        "for i in range (2,n):\n",
        "  de=1/i\n",
        "  print(\"1/\"+str(i)+\"=\",de)"
      ],
      "execution_count": null,
      "outputs": [
        {
          "name": "stdout",
          "output_type": "stream",
          "text": [
            "Enter a Number:10\n",
            "1/2= 0.5\n",
            "1/3= 0.3333333333333333\n",
            "1/4= 0.25\n",
            "1/5= 0.2\n",
            "1/6= 0.16666666666666666\n",
            "1/7= 0.14285714285714285\n",
            "1/8= 0.125\n",
            "1/9= 0.1111111111111111\n"
          ]
        }
      ]
    },
    {
      "cell_type": "markdown",
      "metadata": {
        "id": "JvTifLYEEA2B"
      },
      "source": [
        " c) Write a program using a for loop over a sequence.what is sequence?\n",
        " \n",
        "Code:"
      ]
    },
    {
      "cell_type": "markdown",
      "metadata": {
        "id": "dvwTBgkuZSe6"
      },
      "source": [
        "**AIM**:\n",
        "c) To Write a program using a for loop that loops over a sequence. What is sequence?\n",
        "\n",
        "**DESCRIPTION**:\n",
        "\n",
        "For Loop: For loops can iterate over a sequence of numbers using the \"range\" and \"xrange\" functions. The difference between range and xrange is that the range function returns a new list with numbers of that specified range, whereas xrange returns an iterator, which is more efficient.\n",
        "\n",
        "The general format is\n",
        "\n",
        "for x in range(start,stop,step):\n",
        "\n",
        "statements"
      ]
    },
    {
      "cell_type": "code",
      "metadata": {
        "colab": {
          "base_uri": "https://localhost:8080/"
        },
        "id": "7b0jbwinEJCU",
        "outputId": "99880ca9-7854-45de-fce9-4584c30de14e"
      },
      "source": [
        "array=[4,\"abc\",-14,'D',4.5,True,\"xyz\"]\n",
        "print(\"Given array:\",array) \n",
        "for x in array:\n",
        "    print(x)"
      ],
      "execution_count": null,
      "outputs": [
        {
          "name": "stdout",
          "output_type": "stream",
          "text": [
            "Given array: [4, 'abc', -14, 'D', 4.5, True, 'xyz']\n",
            "4\n",
            "abc\n",
            "-14\n",
            "D\n",
            "4.5\n",
            "True\n",
            "xyz\n"
          ]
        }
      ]
    },
    {
      "cell_type": "markdown",
      "metadata": {
        "id": "iRcveX5taTm6"
      },
      "source": [
        "d) Write a program using a while loop that asks the user for a number, and prints a countdownfrom that number to zero"
      ]
    },
    {
      "cell_type": "markdown",
      "metadata": {
        "id": "FAit4-ylZ81h"
      },
      "source": [
        "**AIM**:\n",
        "\n",
        "D) Write a program using a while loop that asks the user for a number, and prints a countdownfrom that number to zero.\n",
        "\n",
        "**DESCRIPTION**:\n",
        "\n",
        "While Loop is used to execute a block of statements repeatedly until a given condition is satisfied. And when the condition becomes false, the line immediately after the loop in the program is executed. While loop falls under the category of indefinite iteration\n",
        "\n",
        "The syntax for a while loop is:\n",
        "\n",
        "while [ condition]"
      ]
    },
    {
      "cell_type": "code",
      "metadata": {
        "id": "bRIlsJV5Di1a"
      },
      "source": [
        ""
      ],
      "execution_count": null,
      "outputs": []
    },
    {
      "cell_type": "code",
      "metadata": {
        "colab": {
          "base_uri": "https://localhost:8080/"
        },
        "id": "LGbiOWxLaEHt",
        "outputId": "04edbcd4-1dcb-4bb3-d5f2-40d60f063de8"
      },
      "source": [
        "#countdown seq\n",
        "n=int(input(\"enter the numbr:\"))\n",
        "while n>0:\n",
        "      print(n)\n",
        "      n=n-1\n"
      ],
      "execution_count": null,
      "outputs": [
        {
          "name": "stdout",
          "output_type": "stream",
          "text": [
            "enter the numbr:4\n",
            "4\n",
            "3\n",
            "2\n",
            "1\n"
          ]
        }
      ]
    },
    {
      "cell_type": "markdown",
      "metadata": {
        "id": "Oy0nX-7PFvvF"
      },
      "source": [
        " \n",
        " \n",
        "**Exercise** **4**- **Control** **Flow** **Continued**\n",
        " \n",
        "a) find the sum of all primes below 2 millions"
      ]
    },
    {
      "cell_type": "markdown",
      "metadata": {
        "id": "o3GMlWNla_U8"
      },
      "source": [
        "**AIM**:\n",
        "\n",
        "a) Find the sum of all the primes below two million. \n",
        "\n",
        "**DESCRIPTION**:\n",
        "\n",
        "A Fibonacci sequence is the integer sequence of 0, 1, 1, 2, 3, 5, 8....\n",
        "\n",
        "The first two terms are 0 and 1. All other terms are obtained by adding the preceding two terms. This means to say the nth term is the sum of (n-1)th and (n-2)th term\n",
        "\n",
        "Here, we store the number of terms in nterms. We initialize the first term to 0 and the second term to 1.\n",
        "\n",
        "If the number of terms is more than 2, we use a while loop to find the next term in the sequence by adding the preceding two terms. We then interchange the variables (update it) and continue on with the process.\n",
        "\n"
      ]
    },
    {
      "cell_type": "code",
      "metadata": {
        "colab": {
          "base_uri": "https://localhost:8080/"
        },
        "id": "iPesFJWGF73c",
        "outputId": "6d6cce0d-bf2c-4b73-b50b-5b411060cd8a"
      },
      "source": [
        "import math\n",
        "def check_prime(num):\n",
        "    if num > 2 and num % 2 == 0:\n",
        "        return False\n",
        "    else:\n",
        "      \n",
        "        for i in range(3, int(math.sqrt(num)) + 1, 2):\n",
        "            if num % i == 0:\n",
        "                return False\n",
        "    return True\n",
        "n=int(input(\"Enter number: \"))\n",
        "sum = 0\n",
        "for i in range(2, n):\n",
        "        if check_prime(i):\n",
        "            print(i)\n",
        "            sum += i\n",
        "print(\"sum of prime numbers:\", sum)"
      ],
      "execution_count": null,
      "outputs": [
        {
          "name": "stdout",
          "output_type": "stream",
          "text": [
            "Enter number: 100\n",
            "2\n",
            "3\n",
            "5\n",
            "7\n",
            "11\n",
            "13\n",
            "17\n",
            "19\n",
            "23\n",
            "29\n",
            "31\n",
            "37\n",
            "41\n",
            "43\n",
            "47\n",
            "53\n",
            "59\n",
            "61\n",
            "67\n",
            "71\n",
            "73\n",
            "79\n",
            "83\n",
            "89\n",
            "97\n",
            "sum of prime numbers: 1060\n"
          ]
        }
      ]
    },
    {
      "cell_type": "markdown",
      "metadata": {
        "id": "xqR-GDGkGTw3"
      },
      "source": [
        "b) Find the sum of all the primes below two million. Each new term in the Fibonacci sequence is generated by adding the previous two terms. Bystarting with 1 and 2, the first 10 terms will be: 1, 2, 3, 5, 8, 13, 21, 34, 55, 89, ..."
      ]
    },
    {
      "cell_type": "markdown",
      "metadata": {
        "id": "xxGbh4lrdmio"
      },
      "source": [
        "**AIM**:\n",
        "\n",
        "a) Find the sum of all the primes below two million. Each new term in the Fibonacci sequence is generated by adding the previous two terms. Bystarting with 1 and 2, the first 10 terms will be: 1, 2, 3, 5, 8, 13, 21, 34, 55, 89, ...\n",
        "\n",
        "**DESCRIPTION**:\n",
        "\n",
        "A Fibonacci sequence is the integer sequence of 0, 1, 1, 2, 3, 5, 8....\n",
        "\n",
        "The first two terms are 0 and 1. All other terms are obtained by adding the preceding two terms. This means to say the nth term is the sum of (n-1)th and (n-2)th term\n",
        "\n",
        "Here, we store the number of terms in nterms. We initialize the first term to 0 and the second term to 1.\n",
        "\n",
        "If the number of terms is more than 2, we use a while loop to find the next term in the sequence by adding the preceding two terms. We then interchange the variables (update it) and continue on with the process.\n",
        "\n"
      ]
    },
    {
      "cell_type": "code",
      "metadata": {
        "colab": {
          "base_uri": "https://localhost:8080/"
        },
        "id": "S7W8M-h5GegE",
        "outputId": "ed7e2b62-9e3d-405b-c413-c6af90deed6a"
      },
      "source": [
        "a=0\n",
        "b=2\n",
        "sum=a+b\n",
        "n=int(input(\"Enter limit:\"))\n",
        "while (b<=n) :\n",
        "        c=4*b+a\n",
        "        if (c> n) :\n",
        "           break\n",
        "        a=b\n",
        "        b=c\n",
        "        sum=sum+c\n",
        "print(sum)"
      ],
      "execution_count": null,
      "outputs": [
        {
          "name": "stdout",
          "output_type": "stream",
          "text": [
            "Enter limit:10\n",
            "10\n"
          ]
        }
      ]
    },
    {
      "cell_type": "markdown",
      "metadata": {
        "id": "Gfj2QmtkHzV-"
      },
      "source": [
        "c) By considering the terms in the Fibonacci sequence whose values do not exceed four million,find the sum of the even-valued terms."
      ]
    },
    {
      "cell_type": "markdown",
      "metadata": {
        "id": "0ohtzLXvcqgb"
      },
      "source": [
        "AIM:\n",
        "\n",
        "b) By considering the terms in the Fibonacci sequence whose values do not exceed four million,find the sum of the even-valued terms.\n",
        "\n",
        "DESCRIPTION:\n",
        "\n",
        "A Fibonacci sequence is the integer sequence of 0, 1, 1, 2, 3, 5, 8....\n",
        "\n",
        "The first two terms are 0 and 1. All other terms are obtained by adding the preceding two terms. This means to say the nth term is the sum of (n-1)th and (n-2)th term\n",
        "\n",
        "Here, we store the number of terms in nterms. We initialize the first term to 0 and the second term to 1.\n",
        "\n",
        "If the number of terms is more than 2, we use a while loop to find the next term in the sequence by adding the preceding two terms. We then interchange the variables (update it) and continue on with the process."
      ]
    },
    {
      "cell_type": "code",
      "metadata": {
        "colab": {
          "base_uri": "https://localhost:8080/"
        },
        "id": "dnNtguMbH5ex",
        "outputId": "bb7a6438-656e-440d-ff34-562e2b1c74d6"
      },
      "source": [
        "a=1\n",
        "b=2\n",
        "c=0\n",
        "sum=0\n",
        "while c<3000000:\n",
        "  c=a+b\n",
        "  a=b\n",
        "  b=c\n",
        "  if c%2==0:\n",
        "    sum+=c\n",
        "print()\n",
        "print(\"Sum of even numbers in fibonacci series\\n below 4 million is\",sum+2)"
      ],
      "execution_count": null,
      "outputs": [
        {
          "name": "stdout",
          "output_type": "stream",
          "text": [
            "\n",
            "Sum of even numbers in fibonacci series\n",
            " below 4 million is 4613732\n"
          ]
        }
      ]
    },
    {
      "cell_type": "markdown",
      "metadata": {
        "id": "DZ0zLBZUIWj_"
      },
      "source": [
        " \n",
        "        Exercise - 5 - DS\n",
        "a) Write a program to count the numbers of characters in the string and store them in adictionary data structure"
      ]
    },
    {
      "cell_type": "markdown",
      "metadata": {
        "id": "8z9S5Mz5eHlu"
      },
      "source": [
        "**AIM**:\n",
        "\n",
        "a) Write a program to count the numbers of characters in the string and store them in adictionary data structure\n",
        "\n",
        "**DESCRIPTION**:\n",
        "\n",
        "Given a string, the task is to find the frequencies of all the characters in that string and return a dictionary with key as the character and its value as its frequency in the given string.\n",
        "\n",
        "Method #1 : Naive method\n",
        "\n",
        "Simply iterate through the string and form a key in dictionary of newly occurred element or if element is already occurred, increase its value by 1.\n",
        "\n",
        "Method #2 : Using collections.Counter()\n",
        "\n",
        "The most suggested method that could be used to find all occurrences is this method, this actually gets all element frequency and could also be used to print single element frequency if required.\n",
        "\n",
        "[ ]\n"
      ]
    },
    {
      "cell_type": "code",
      "metadata": {
        "colab": {
          "base_uri": "https://localhost:8080/"
        },
        "id": "OnJ7xex1IjyE",
        "outputId": "a900f18d-b314-4b17-fb78-4ffaa169b701"
      },
      "source": [
        "name=input (\"Enter a Name \") \n",
        "dic={}\n",
        " \n",
        "for ch in name:\n",
        "  keys=dic.keys() \n",
        " \n",
        "  if(ch in keys):\n",
        "    dic[ch]-dic[ch]+1\n",
        "  else:\n",
        "    dic[ch]=1\n",
        " \n",
        "print(\" Dictionary is:\",dic)"
      ],
      "execution_count": null,
      "outputs": [
        {
          "name": "stdout",
          "output_type": "stream",
          "text": [
            "Enter a Name Divya\n",
            " Dictionary is: {'D': 1, 'i': 1, 'v': 1, 'y': 1, 'a': 1}\n"
          ]
        }
      ]
    },
    {
      "cell_type": "markdown",
      "metadata": {
        "id": "pgVPZDs7JRn0"
      },
      "source": [
        "b) Write a program to use split and join methods in the string and trace a birthday with adictionary data structur"
      ]
    },
    {
      "cell_type": "markdown",
      "metadata": {
        "id": "TrTTx69feX7v"
      },
      "source": [
        "**AIM**:\n",
        "\n",
        "b) Write a program to use split and join methods in the string and trace a birthday with adictionary data structure\n",
        "\n",
        "**DESCRIPTION**:\n",
        "\n",
        "Python program to Split a string based on a delimiter and join the string using another delimiter.\n",
        "\n",
        "Split a string can be quite useful sometimes, especially when you need only certain parts of strings. A simple yet effective example is splitting the First-name and Last-name of a person. Another application is CSV(Comma Separated Files). We use split to get data from CSV and join to write data to CSV.\n",
        "\n",
        "In Python, we can use the function split() to split a string and\n",
        "\n",
        "join() to join a string."
      ]
    },
    {
      "cell_type": "code",
      "metadata": {
        "colab": {
          "base_uri": "https://localhost:8080/"
        },
        "id": "UAh-Z0wjJS8O",
        "outputId": "23a56b92-77b9-4271-ccc2-2fdb7d1eb528"
      },
      "source": [
        "dob={\"Divya\":\"14-feb-2002\", \"sri\":\" 04-05-2000\"}\n",
        " \n",
        "name=input(\"Which person DOB you want\") \n",
        "l=name.split () \n",
        "birth=\" \"\n",
        " \n",
        "for i in l:\n",
        "  if i in dob.keys():\n",
        "     Pers=i\n",
        " \n",
        "print(\" \".join([Pers, \"Birthday is\",dob[Pers]]))"
      ],
      "execution_count": null,
      "outputs": [
        {
          "name": "stdout",
          "output_type": "stream",
          "text": [
            "Which person DOB you wantDivya\n",
            "Divya Birthday is 14-feb-2002\n"
          ]
        }
      ]
    },
    {
      "cell_type": "markdown",
      "metadata": {
        "id": "kLpI1PjYJ5Zg"
      },
      "source": [
        "  Exercise - 6 DS - Continued\n",
        "a) Write a program combinelists that combines these lists into a dictionary"
      ]
    },
    {
      "cell_type": "markdown",
      "metadata": {
        "id": "O7UbncjaessH"
      },
      "source": [
        "**AIM**:\n",
        "\n",
        "a) Write a program combinelists that combines these lists into a dictionary.\n",
        "\n",
        "**DESCRIPTION**:\n",
        "\n",
        "For this, simply declare a dictionary, and then run nested loop for both the lists and assign key and value pairs to from list values to dictionary.\n",
        "\n",
        "Most pythonic and generic method to perform this very task is by using zip(). This function pairs the list element with other list element at corresponding index in form of key-value pairs."
      ]
    },
    {
      "cell_type": "code",
      "metadata": {
        "colab": {
          "base_uri": "https://localhost:8080/"
        },
        "id": "0nx54hLyKJQ4",
        "outputId": "a3e65562-bf5c-49b7-dce1-0a553a37f176"
      },
      "source": [
        "subj=[\"DAA\",\"OS\", \"DBMS\", \" P&S\", \"PPL\", \" SE\"]\n",
        "marks=[85,96,78,68,98,56]\n",
        " \n",
        "print(\"Given lists are:\") \n",
        "print(\"Subjects names:\",subj) \n",
        "print(\"Marks values:\",marks) \n",
        " \n",
        "dic=dict(zip(subj, marks)) \n",
        "print(\"\\n Dictionary:\",dic)"
      ],
      "execution_count": null,
      "outputs": [
        {
          "name": "stdout",
          "output_type": "stream",
          "text": [
            "Given lists are:\n",
            "Subjects names: ['DAA', 'OS', 'DBMS', ' P&S', 'PPL', ' SE']\n",
            "Marks values: [85, 96, 78, 68, 98, 56]\n",
            "\n",
            " Dictionary: {'DAA': 85, 'OS': 96, 'DBMS': 78, ' P&S': 68, 'PPL': 98, ' SE': 56}\n"
          ]
        }
      ]
    },
    {
      "cell_type": "markdown",
      "metadata": {
        "id": "7DZ9ZYpAKajC"
      },
      "source": [
        "b) Write a program to count frequency of characters in a given file. Can you use characterfrequency to tell whether the given file is a Python program file, C program file or a text file?"
      ]
    },
    {
      "cell_type": "markdown",
      "metadata": {
        "id": "PQE_hB6oey34"
      },
      "source": [
        "**AIM**:\n",
        "\n",
        "b) Write a program to count frequency of characters in a given file. Can you use characterfrequency to tell whether the given file is a Python program file, C program file or a text file?\n",
        "\n",
        "**DESCRIPTION**:\n",
        "\n",
        "approaches to count the number of times a letter appears in a text file in Python.\n",
        "\n",
        "Method 1: Using the in-built count() method.\n",
        "\n",
        "Approach:\n",
        "\n",
        "Read the file. Store the content of the file in a variable. Use the count() method with the argument as a letter whose frequency is required. Display the count of the letter."
      ]
    },
    {
      "cell_type": "code",
      "metadata": {
        "id": "3rO5YbNQKbXW"
      },
      "source": [
        "filetypes=['.py','.c','.txt']\n",
        "fn=input(\"Enter the file name:\") \n",
        "f=open(fn,\"r\") \n",
        "count=dict() \n",
        " \n",
        "print(\" Given file is \",end=\" \") \n",
        "for ft in filetypes:\n",
        " if(ft in fn):\n",
        "  if(ft=='.py'):\n",
        "    print(\"Python File\") \n",
        "  elif(ft=='.c'):\n",
        "    print(\"C File\") \n",
        "  elif(ft=='.txt'):\n",
        "    print(\"Text File\") \n",
        "for line in f:\n",
        "  for ch in line:\n",
        "      if ch in count:\n",
        "        count[ch]=count[ch]+1\n",
        "      else:\n",
        "        count[ch]=1\n",
        "print(count) \n",
        "fclose()"
      ],
      "execution_count": null,
      "outputs": []
    },
    {
      "cell_type": "markdown",
      "metadata": {
        "id": "Oh8tXxKFKhFO"
      },
      "source": [
        "OUTPUT:\n",
        "\n",
        "Enter the file name:div.py Given file is Python File {'i': 7, 'm': 3, 'p': 2, 'o': 2, 'r': 4, 't': 5, ' ': 5, 's': 9, 'y': 5, '\\n': 5, 'x': 2, '=': 3, 'n': 4, '(': 3, '.': 2, 'a': 3, 'g': 2, 'v': 2, '[': 2, '1': 1, ']': 2, ')': 3, '2': 1, 'u': 2, '+': 1, '\"': 2, 'T': 1, 'h': 1, 'e': 1, 'd': 2, ':': 1, ',': 1}"
      ]
    },
    {
      "cell_type": "markdown",
      "metadata": {
        "id": "0Q6TRx1GK9Am"
      },
      "source": [
        "EXCERCISE-7 files\n",
        " \n",
        "a) Write a program to print each line of a file in reverse order."
      ]
    },
    {
      "cell_type": "markdown",
      "metadata": {
        "id": "HxFHHpGVfL7V"
      },
      "source": [
        "**AIM**\n",
        "\n",
        "To Write a program to print each line of a file in reverse order.\n",
        "\n",
        "**DESCRIPTION**:\n",
        "\n",
        "The file handling plays an important role when the data needs to be stored permanently into the file. A file is a named location on disk to store related information. We can access the stored information (non-volatile) after the program termination. In Python, files are treated in two modes as text or binary. The file may be in the text or binary format, and each line of a file is ended with the special character. Hence, a file operation can be done in the following order.\n",
        "\n",
        " Open a file\n",
        "\n",
        " Read or write - Performing operation\n",
        "\n",
        " Close the file"
      ]
    },
    {
      "cell_type": "code",
      "metadata": {
        "id": "pGL81KIfLeLO"
      },
      "source": [
        "obj=open(\"sam.txt\",\"r\")\n",
        "if obj:\n",
        "    st=obj.read()\n",
        "    print(\"file content is:\")\n",
        "obj.close()\n",
        "\n",
        "print()\n",
        "lines=st.split('\\n')\n",
        "\n",
        "for ln in lines:\n",
        "    i=len(ln)-1\n",
        "    while(i>=0):\n",
        "      print(ln[i],end='')\n",
        "      i=i-1\n",
        "    print()"
      ],
      "execution_count": null,
      "outputs": []
    },
    {
      "cell_type": "markdown",
      "metadata": {
        "id": "z3DeExBuQe7w"
      },
      "source": [
        "**OUTPUT**:\n",
        "\n",
        "File content is: welcome to python programming...! \n",
        "\n",
        "!..gnimmargorp nothyp ot emocleW"
      ]
    },
    {
      "cell_type": "markdown",
      "metadata": {
        "id": "X77eCD68LdEp"
      },
      "source": [
        "b) Write a program to compute the number of characters, words and lines in a file."
      ]
    },
    {
      "cell_type": "markdown",
      "metadata": {
        "id": "L8646E9Ofi1p"
      },
      "source": [
        "**AIM**:\n",
        "\n",
        "To Write a program to compute the number of characters, words and lines in a file\n",
        "\n",
        "**DESCRIPTION**:\n",
        "\n",
        "Given a text file fname, the task is to count the total number of characters, words, spaces and lines in the file.\n",
        "\n",
        "As we know, Python provides multiple in-built features and modules for handling files. Let’s discuss different ways to calculate total number of characters, words, spaces and lines in a file using Python.\n",
        "\n",
        "Method #1: Naive approach\n",
        "\n",
        "In this approach, the idea is to solve the task by developing our own logic. Without using any built-in function of Python, the total number of characters, words, spaces and lines of the file will be calculated.\n",
        "\n",
        "Method #2: Using some built-in functions and OS module functions\n",
        "\n",
        "In this approach, the idea is to use the os.linesep() method of OS module to separate the lines on the current platform. When the interpreter’s scanner encounter os.linesep it replaces it with \\n character. After that strip() and split() functions will be used to carry out the task.\n",
        "\n"
      ]
    },
    {
      "cell_type": "code",
      "metadata": {
        "id": "VZnT-zKXQV_5"
      },
      "source": [
        "file__IO =\"D:\\\\ab\\\\files\\\\book\\\\python.txt\"\n",
        "with open(file__IO, 'r') as f:\n",
        "    data = f.read()\n",
        "    line = data.splitlines()\n",
        "    words = data.split()\n",
        "    spaces = data.split(\" \")\n",
        "    charc = (len(data) - len(spaces))\n",
        "print('\\n Line number ::', len(line), '\\n Words number ::', len(words), '\\n Spaces ::', len(spaces), '\\n Characters ::', (len(data)-len(spaces)))"
      ],
      "execution_count": null,
      "outputs": []
    },
    {
      "cell_type": "markdown",
      "metadata": {
        "id": "9KwV85tTQcBd"
      },
      "source": [
        "output will be like:Line number :: 4 \n",
        "Words number :: 29 \n",
        "Spaces :: 26"
      ]
    },
    {
      "cell_type": "markdown",
      "metadata": {
        "id": "oKPTPwFzL0rI"
      },
      "source": [
        " EXCERCISE-8\n",
        " \n",
        "8 Functions'\n",
        " \n",
        "a) Write a function ball collide that takes two balls as parameters and computes if they arecolliding. Your function should return a Boolean representing whether or not the balls arecolliding. Hint: Represent a ball on a plane as a tuple of (x, y, r), r being the radius If (distance between two balls centers) <= (sum of their radii) then (they are colliding)"
      ]
    },
    {
      "cell_type": "markdown",
      "metadata": {
        "id": "0WvdKV_yfrYF"
      },
      "source": [
        "**AIM**:\n",
        "\n",
        "To Write a function ball collide that takes two balls as parameters and computes if they arecolliding. Your function should return a Boolean representing whether or not the balls arecolliding.\n",
        "\n",
        "Hint: Represent a ball on a plane as a tuple of (x, y, r), r being the radius If (distance between two balls centers) <= (sum of their radii) then (they are colliding)\n",
        "\n",
        "**DESCRIPTION**\n",
        "\n",
        "Functions A function in python is a block of code that is defined for doing frequent operations in a particular task. The general format is\n",
        "\n",
        "def Functionname(arguments):\n",
        "\n",
        "Statements Calling a Function:\n",
        "\n",
        "A function can be called by its name followed by arguments within parenthesis.\n",
        "\n",
        "function()"
      ]
    },
    {
      "cell_type": "code",
      "metadata": {
        "colab": {
          "base_uri": "https://localhost:8080/"
        },
        "id": "BQmtOyhDP1iQ",
        "outputId": "f77dd232-960a-4041-c30b-f7db3529a3a8"
      },
      "source": [
        "import math\n",
        "def ball_collide(ball_tuple1,ball_tuple2):\n",
        "    d=math.sqrt((ball_tuple1[0]-ball_tuple2[0])**2 + \n",
        " \n",
        "(ball_tuple1[1]-ball_tuple2[1])**2)\n",
        "    if(d<=(ball_tuple1[2]+ball_tuple2[2])):\n",
        "        return True\n",
        "    else:\n",
        "        return False\n",
        " \n",
        "ball_tuple1=(-2,-2,3)\n",
        "ball_tuple2=(1,1,3)\n",
        "collision=ball_collide(ball_tuple1,ball_tuple2)\n",
        "if(collision):\n",
        "    print(\"Balls are collide.\")\n",
        "else:\n",
        "    print(\"Balls are not collide.\")"
      ],
      "execution_count": null,
      "outputs": [
        {
          "name": "stdout",
          "output_type": "stream",
          "text": [
            "Balls are collide.\n"
          ]
        }
      ]
    },
    {
      "cell_type": "markdown",
      "metadata": {
        "id": "Gw-pfMgjMhuJ"
      },
      "source": [
        "b) Find mean, median, mode for the given set of numbers in a list."
      ]
    },
    {
      "cell_type": "markdown",
      "metadata": {
        "id": "-FqdrRHCfuQG"
      },
      "source": [
        "**AIM**:\n",
        "\n",
        "To Find mean, median, mode for the given set of numbers in a list\n",
        "\n",
        "**DESCRIPTION**\n",
        "\n",
        "Mean : The mean is the average of all numbers and is sometimes called the arithmetic mean. This code calculates Mean or Average of a list containing numbers:\n",
        "\n",
        "Median : The median is the middle number in a group of numbers. This code calculates Median of a list containing numbers:\n",
        "\n",
        "Mode : The mode is the number that occurs most often within a set of numbers. This code calculates Mode of a list containing numbers:\n",
        "\n",
        "We will import Counter from collections library which is a built-in module in Python 2 and 3. This module will help us count duplicate elements in a list. We define a list of numbers and calculate the length of the list. We then call Counter (a dict subclass) which helps to count hashable objects, and we then convert it to dict object. We then initialize a list with a For Loop to compare all the dict values (Number of elements) to the max of all dict values (count of most occurring element) and it returns all the elements equal to max count. If the elements returned are equal to the number of total elements in a list then we print out ‘No mode’, else we print out the modes returned."
      ]
    },
    {
      "cell_type": "code",
      "metadata": {
        "colab": {
          "base_uri": "https://localhost:8080/"
        },
        "id": "1uixpOAFP7e3",
        "outputId": "b1b8ef35-5bd2-4d67-a4a6-763e2a536b99"
      },
      "source": [
        "import numpy as np\n",
        "from scipy import stats\n",
        "lst = [] \n",
        "lst = [int(item) for item in input(\"Enter the list items : \").split()] \n",
        "mean= np.mean(lst)\n",
        "median = np.median(lst)\n",
        "mode= stats.mode(lst)\n",
        "print(\"Mean: \", mean)\n",
        "print(\"Median: \", median)\n",
        "print(\"Mode: \", mode)"
      ],
      "execution_count": null,
      "outputs": [
        {
          "output_type": "stream",
          "name": "stdout",
          "text": [
            "Enter the list items : 4 6 6 7 3 4 9 4 2 \n",
            "Mean:  5.0\n",
            "Median:  4.0\n",
            "Mode:  ModeResult(mode=array([4]), count=array([3]))\n"
          ]
        }
      ]
    },
    {
      "cell_type": "markdown",
      "metadata": {
        "id": "HfJE3zMZMi7L"
      },
      "source": [
        "**Exercise** - **9**\n",
        " \n",
        "Functions - Continued\n",
        " \n",
        "a) Write a function nearly equal to test whether two strings are nearly equal. Two strings a and bare nearly equal when a can be generated by a single mutation on b."
      ]
    },
    {
      "cell_type": "markdown",
      "metadata": {
        "id": "YoJbF7RpgYYN"
      },
      "source": [
        "**AIM**:\n",
        "\n",
        "To Write a function nearly equal to test whether two strings are nearly\n",
        "\n",
        "**DESCRIPTION**:\n",
        "\n",
        "strlen() function is used to check wether the two string are nearly equal or not by basis of the Length of those Strings\n",
        "\n",
        "len(bold text) function is an inbuilt function in Python programming language that returns the length of the string.\n",
        "\n",
        "len() is a built-in function in python.You can use the len() to get the length of the given string, array, list, tuple, dictionary, etc.\n",
        "\n",
        "Value: the given value you want the length of.\n",
        "\n",
        "Return value a return an integer value i.e. the length of the given string, or array, or list, or collections.\n",
        "\n",
        "Syntax:\n",
        "\n",
        "len(string)"
      ]
    },
    {
      "cell_type": "code",
      "metadata": {
        "colab": {
          "base_uri": "https://localhost:8080/"
        },
        "id": "rW7zS2CkQSU2",
        "outputId": "3d63a50a-9ac7-4275-8343-cf027480b01d"
      },
      "source": [
        "string1 = input(\"Enter first string: \")\n",
        "string2 = input(\"Enter second string: \")\n",
        "if string1 == string2:\n",
        "    print(\"\\nBoth strings are equal to each other.\")\n",
        "    print(string1,\"==\",string2);\n",
        "else:\n",
        "    print(\"\\nStrings are not equal.\")\n",
        "    print(string1,\"!=\",string2);"
      ],
      "execution_count": null,
      "outputs": [
        {
          "name": "stdout",
          "output_type": "stream",
          "text": [
            "Enter first string: Divya\n",
            "Enter second string: Sri\n",
            "\n",
            "Strings are not equal.\n",
            "Divya != Sri\n"
          ]
        }
      ]
    },
    {
      "cell_type": "markdown",
      "metadata": {
        "id": "v7Ze_Z9bMnES"
      },
      "source": [
        "b) Write a function dup to find all duplicates in the list."
      ]
    },
    {
      "cell_type": "markdown",
      "metadata": {
        "id": "llkGBY7Dgt1F"
      },
      "source": [
        "**AIM**:\n",
        "\n",
        "To Write a function dup to find all duplicates in the list.\n",
        "\n",
        "**DESCRIPTION**:\n",
        "\n",
        "To check if a list contains any duplicate element follow the following steps,\n",
        "\n",
        "Add the contents of list in a set.\n",
        "\n",
        "As set contains only unique elements, so no duplicates will be added the the set. Compare the size of set and list.\n",
        "\n",
        " If size of list & set is equal then it means no duplicates in list.\n",
        "If size of list & set are different then it means yes, there are duplicates in list."
      ]
    },
    {
      "cell_type": "code",
      "metadata": {
        "colab": {
          "base_uri": "https://localhost:8080/"
        },
        "id": "4XkhyLgDQEw_",
        "outputId": "3c91a807-a92a-4605-9176-f985983521f6"
      },
      "source": [
        "from collections import Counter\n",
        "lst = [] \n",
        "lst = [int(item) for item in input(\"Enter the list items : \").split()] \n",
        "d = Counter(lst)\n",
        "print(d)\n",
        "new_lst = tuple([item for item in d if d[item]>1])\n",
        "print(new_lst)"
      ],
      "execution_count": null,
      "outputs": [
        {
          "name": "stdout",
          "output_type": "stream",
          "text": [
            "Enter the list items : 6 4 8 3 2 1\n",
            "Counter({6: 1, 4: 1, 8: 1, 3: 1, 2: 1, 1: 1})\n",
            "()\n"
          ]
        }
      ]
    },
    {
      "cell_type": "markdown",
      "metadata": {
        "id": "MiMUUKXZMrwq"
      },
      "source": [
        "c) Write a function unique to find all the unique elements of a list."
      ]
    },
    {
      "cell_type": "markdown",
      "metadata": {
        "id": "yrmvu-Psg4m2"
      },
      "source": [
        "**AIM**:\n",
        "\n",
        "To Write a function unique to find all the unique elements of a list.\n",
        "\n",
        "**DESCRIPTION**:\n",
        "\n",
        "To find the unique in the list .There is a Specific Method i.e.,\n",
        "\n",
        "Method : Traversal of list\n",
        "\n",
        "Using traversal, we can traverse for every element in the list and check if the element is in the unique_list already if it is not over there, then we can append it in the unique_list.\n",
        "\n",
        "This is done using one for loop and other if statement which check if the value is in the unique list or not which is equivalent to another for loop."
      ]
    },
    {
      "cell_type": "code",
      "metadata": {
        "colab": {
          "base_uri": "https://localhost:8080/"
        },
        "id": "9Yq3mLNIQAU3",
        "outputId": "90e73be9-fbd7-4685-a07c-e0890c6a20e3"
      },
      "source": [
        "from collections import Counter\n",
        "def unique(lst):\n",
        "    print(*Counter(lst))\n",
        "lst = [] \n",
        "lst = [int(item) for item in input(\"Enter the list items : \").split()] \n",
        "print(\"the unique values from list is\")\n",
        "unique(lst)"
      ],
      "execution_count": null,
      "outputs": [
        {
          "name": "stdout",
          "output_type": "stream",
          "text": [
            "Enter the list items : 3 8 4 2 1 7 9 4\n",
            "the unique values from list is\n",
            "3 8 4 2 1 7 9\n"
          ]
        }
      ]
    },
    {
      "cell_type": "markdown",
      "metadata": {
        "id": "TmRkTgltLzbQ"
      },
      "source": [
        "Exercise - 10\n",
        " \n",
        "Functions - Problem Solving\n",
        " \n",
        "a) Write a function cumulative product to compute cumulative product of a list of numbers."
      ]
    },
    {
      "cell_type": "markdown",
      "metadata": {
        "id": "q7x1yCFohBwy"
      },
      "source": [
        "**AIM**:\n",
        "\n",
        "To Write a function cumulative product to compute cumulative product of a list of numbers.\n",
        "\n",
        "**DESCRIPTION**:\n",
        "\n",
        "A cumulative product is a sequence of partial products of a given sequence. For example, the cumulative products of the sequence. , are , , .. Cumulative products can be implemented in the Wolfram Language as Rest[FoldList[Times, 1, list]]\n",
        "\n",
        "cumprod(A,1) works on successive elements in the columns of A and returns the cumulative products of each column. cumprod(A,2) works on successive elements in the rows of A and returns the cumulative products of each row.\n",
        "\n",
        "umprod() function is used when we want to compute the cumulative product of array elements over a given axis. Syntax : numpy.cumprod(arr, axis=None, dtype=None, out=None) Parameters : arr : [array_like] Array containing numbers whose cumulative product is desired."
      ]
    },
    {
      "cell_type": "code",
      "metadata": {
        "colab": {
          "base_uri": "https://localhost:8080/"
        },
        "id": "nlGEAmhSy0-G",
        "outputId": "f14a790c-b296-4e5f-8732-834c5b2e00ab"
      },
      "source": [
        "def cumulativefrequency(lst):\n",
        "  product=1\n",
        "  for i in lst:\n",
        "    product*=i\n",
        "    temp.append(product)\n",
        "  return temp\n",
        "n=int(input(\"Enter number of elements tobe in list:\"))\n",
        "lst=[int(input()) for i in range(n)]\n",
        "temp=[]\n",
        "temp=cumulativefrequency(lst)\n",
        "print(temp)"
      ],
      "execution_count": null,
      "outputs": [
        {
          "name": "stdout",
          "output_type": "stream",
          "text": [
            "Enter number of elements tobe in list:4\n",
            "1\n",
            "5\n",
            "3\n",
            "4\n",
            "[1, 5, 15, 60]\n"
          ]
        }
      ]
    },
    {
      "cell_type": "markdown",
      "metadata": {
        "id": "Fpw8d8aBl_Du"
      },
      "source": [
        "b) Write a function reverse to reverse a list. Without using the reverse function."
      ]
    },
    {
      "cell_type": "markdown",
      "metadata": {
        "id": "bfbCMRT6hRoC"
      },
      "source": [
        "**AIM**:\n",
        "\n",
        "To Write a function reverse to reverse a list. Without using the reverse function.\n",
        "\n",
        "**DESCRIPTION**:\n",
        "\n",
        "In this Python code snippet post, we are going to implement a list reverse function from the scratch without using any builtin functions.\n",
        "\n",
        "Let us see how…\n",
        "\n",
        "Iterative solution\n",
        "\n",
        "We can use a for loop to swap the first and last items, the second and the one before the last item and so on until the list is reversed in place. The number of iterations needed is half the list size. If the list has an odd number of items then the middle item will stay in its place."
      ]
    },
    {
      "cell_type": "code",
      "metadata": {
        "colab": {
          "base_uri": "https://localhost:8080/"
        },
        "id": "itBvZ0pIOnkO",
        "outputId": "f2955a57-c995-46f6-cd2e-902314257181"
      },
      "source": [
        "def Reverse(lst):\n",
        "    new_lst = lst[::-1]\n",
        "    return new_lst\n",
        "lst = [] \n",
        "lst = [int(item) for item in input(\"Enter the list items : \").split()] \n",
        "print(Reverse(lst))"
      ],
      "execution_count": null,
      "outputs": [
        {
          "name": "stdout",
          "output_type": "stream",
          "text": [
            "Enter the list items : 5 7 8 3 6 4\n",
            "[4, 6, 3, 8, 7, 5]\n"
          ]
        }
      ]
    },
    {
      "cell_type": "markdown",
      "metadata": {
        "id": "jgcwQNNJO2_4"
      },
      "source": [
        "c) Write function to compute gcd, lcm of two numbers. Each function shouldn’t exceed one line"
      ]
    },
    {
      "cell_type": "markdown",
      "metadata": {
        "id": "Pnk44S_Nhf5z"
      },
      "source": [
        "**AIM**:\n",
        "\n",
        "To Write function to compute gcd, lcm of two numbers. Each function shouldn’t exceed one line.\n",
        "\n",
        "**DESCRIPTION**: bold text Python provides you an anonymous function called lambda. It can take any number of arguments, but can only have one expression. It can be used to find LCM and GCD values without exceeding each from from one line.\n",
        "\n",
        "The general format is\n",
        "\n",
        "lambda arguments: expression\n",
        "\n",
        "The expression is executed during the function call and the result is returned.\n",
        "\n",
        "Lambda as a Function\n",
        "\n",
        "The power of using a lambda expression is implementing it using a function"
      ]
    },
    {
      "cell_type": "code",
      "metadata": {
        "colab": {
          "base_uri": "https://localhost:8080/"
        },
        "id": "5j8iLqH0PVNy",
        "outputId": "c55e114d-f0a4-4c1f-f84d-3557416ad330"
      },
      "source": [
        "gcd=lambda a,b: a if b==0 else gcd(a,a%b)\n",
        "lcm=lambda a,b: (a*b)/gcd(a,b)\n",
        " \n",
        "x=4\n",
        "y=24\n",
        "print(\"gcd=\",gcd(x,y))\n",
        "print(\"lcm=\",lcm(x,y))"
      ],
      "execution_count": null,
      "outputs": [
        {
          "name": "stdout",
          "output_type": "stream",
          "text": [
            "gcd= 4\n",
            "lcm= 24.0\n"
          ]
        }
      ]
    },
    {
      "cell_type": "markdown",
      "metadata": {
        "id": "s0OPOG1PNPJ6"
      },
      "source": [
        "            EXERCISE 11-MULTI-D LISTS"
      ]
    },
    {
      "cell_type": "markdown",
      "metadata": {
        "id": "h3kaWQ8ONcM0"
      },
      "source": [
        "A) Write a program that defines a matrix and prints\n",
        "\n",
        "CODE:"
      ]
    },
    {
      "cell_type": "markdown",
      "metadata": {
        "id": "ySY8cprnhtAb"
      },
      "source": [
        "**AIM**:\n",
        "\n",
        "To Write a program that defines a matrix and prints\n",
        "\n",
        "**DESCRIPTION**:\n",
        "\n",
        "Lists are a very widely use data structure in python. They contain a list of elements separated by comma. But sometimes lists can also contain lists within them. These are called nested lists or multidimensional lists. In this article we will see how to create and access elements in a multidimensional list.\n",
        "\n",
        "Methods on Multidimensional lists\n",
        "\n",
        "append(): Adds an element at the end of the list.\n",
        "\n",
        "extend(): Add the elements of a list (or any iterable), to the end of the current list.\n",
        "\n",
        "reverse(): Reverses the order of the list."
      ]
    },
    {
      "cell_type": "code",
      "metadata": {
        "colab": {
          "base_uri": "https://localhost:8080/"
        },
        "id": "GMBAD8YHNNvo",
        "outputId": "49bc87a5-a7f3-4cee-b95f-0de9dc01e534"
      },
      "source": [
        "matA=[[]]\n",
        "rows=int(input(\"Enter row size of matrix:\"))\n",
        "cols=int(input(\"Enter column size of matrix\"))\n",
        " \n",
        "matA=[[int(input(\"Enter [%d,%d] value:\"%(i,j)))for j in range(cols)]for i in range(rows)]\n",
        " \n",
        "print(\"Matrix is:\") \n",
        "for i in range(rows):\n",
        "  for j in range(cols):\n",
        "    print(matA[i][j],end='\\t') \n",
        "  print()"
      ],
      "execution_count": null,
      "outputs": [
        {
          "name": "stdout",
          "output_type": "stream",
          "text": [
            "Enter row size of matrix:3\n",
            "Enter column size of matrix3\n",
            "Enter [0,0] value:3\n",
            "Enter [0,1] value:6\n",
            "Enter [0,2] value:4\n",
            "Enter [1,0] value:2\n",
            "Enter [1,1] value:8\n",
            "Enter [1,2] value:4\n",
            "Enter [2,0] value:8\n",
            "Enter [2,1] value:1\n",
            "Enter [2,2] value:5\n",
            "Matrix is:\n",
            "3\t6\t4\t\n",
            "2\t8\t4\t\n",
            "8\t1\t5\t\n"
          ]
        }
      ]
    },
    {
      "cell_type": "markdown",
      "metadata": {
        "id": "RoJ-FkuANuiA"
      },
      "source": [
        "B) Write a program to perform addition of two square matrices \n",
        "\n",
        "CODE:"
      ]
    },
    {
      "cell_type": "markdown",
      "metadata": {
        "id": "9fw7hvSyh4Cx"
      },
      "source": [
        "**AIM**:\n",
        "\n",
        "b) Write a program to perform addition of two square matrices\n",
        "\n",
        "**DESCRIPTION**:\n",
        "\n",
        "We can perform matrix addition in following ways in Python.\n",
        "\n",
        "Using for loop: Explanation :- In this program we have used nested for loops to iterate through each row and each column. At each point we add the corresponding elements in the two matrices and store it in the result.\n",
        "\n",
        "Using nested list comprehension :\n",
        "In Python, we can implement a matrix as nested list (list inside a list). We can treat each element as a row of the matrix.\n",
        "\n",
        "**Explanation** :-\n",
        "\n",
        "The output of this program is the same as above. We have used nested list comprehension to iterate through each element in the matrix. List comprehension allows us to write concise codes and we must try to use them frequently in Python. They are very helpful.\n",
        "\n",
        "uising zip function Explanation :\n",
        "\n",
        "The zip function accepts iterator i of each element(list) of matrix, mapping them, adding them using sum() and storing them in the map form."
      ]
    },
    {
      "cell_type": "code",
      "metadata": {
        "colab": {
          "base_uri": "https://localhost:8080/"
        },
        "id": "k276RnLUOghL",
        "outputId": "7e28f1c5-1a6b-424c-8eca-613beb818115"
      },
      "source": [
        "def matRead(r,c):\n",
        "  return[[int(input(\" [%d,%d] value:\"%(i,j)))for j in range(c)]for i in range(r)]\n",
        " \n",
        "def matDisp(mat,r,c):\n",
        "  for i in range(r):\n",
        "    for j in range(c):\n",
        "      print(mat[i][j],end='\\t')\n",
        "    print() \n",
        " \n",
        "matA=[[]]\n",
        "matB=[[]]\n",
        "matSum=[[]]\n",
        "rows=int(input(\"Enter row size of the matrix\")) \n",
        "cols=int(input(\"Enter column size of the matrix\")) \n",
        " \n",
        "if rows==cols:\n",
        "  print(\"Enter Matrix-A elements:\") \n",
        "  matA=matRead(rows,cols) \n",
        " \n",
        "  print(\"Enter Matrix-B elements:\") \n",
        "  matB=matRead(rows,cols)\n",
        " \n",
        "  print(\"Matrix-A is:\") \n",
        "  matDisp(matA,rows,cols) \n",
        " \n",
        "  print(\"Matrix-B is:\") \n",
        "  matDisp(matB,rows,cols) \n",
        " \n",
        "  matSum=[[matA[i][j]+matB[i][j] for j in range(cols)]for i in range(rows)]\n",
        "  print(\"Sum of matrices:\") \n",
        "  matDisp(matSum,rows,cols) \n",
        "else:\n",
        "  print(\"Matrices addition is Not possible\")"
      ],
      "execution_count": null,
      "outputs": [
        {
          "name": "stdout",
          "output_type": "stream",
          "text": [
            "Enter row size of the matrix2\n",
            "Enter column size of the matrix2\n",
            "Enter Matrix-A elements:\n",
            " [0,0] value:5\n",
            " [0,1] value:9\n",
            " [1,0] value:5\n",
            " [1,1] value:3\n",
            "Enter Matrix-B elements:\n",
            " [0,0] value:5\n",
            " [0,1] value:4\n",
            " [1,0] value:6\n",
            " [1,1] value:3\n",
            "Matrix-A is:\n",
            "5\t9\t\n",
            "5\t3\t\n",
            "Matrix-B is:\n",
            "5\t4\t\n",
            "6\t3\t\n",
            "Sum of matrices:\n",
            "10\t13\t\n",
            "11\t6\t\n"
          ]
        }
      ]
    },
    {
      "cell_type": "markdown",
      "metadata": {
        "id": "t00N9aKMPhd4"
      },
      "source": [
        "C) Write a program to perform multiplication of two square matrices \n",
        "\n",
        "CODE:"
      ]
    },
    {
      "cell_type": "markdown",
      "metadata": {
        "id": "vDPBRECoiQOt"
      },
      "source": [
        "**AIM**:\n",
        "\n",
        "To Write a program to perform multiplication of two square\n",
        "\n",
        "**DESCRIPTION**:\n",
        "\n",
        "In Python, we can implement a matrix as nested list (list inside a list).\n",
        "\n",
        "We can treat each element as a row of the matrix.\n",
        "\n",
        "For example X = [[1, 2], [4, 5], [3, 6]] would represent a 3x2 matrix.\n",
        "\n",
        "The first row can be selected as X[0]. And, the element in first row, first column can be selected as X[0][0].\n",
        "\n",
        "Multiplication of two matrices X and Y is defined only if the number of columns in X is equal to the number of rows Y.\n",
        "\n",
        "If X is a n x m matrix and Y is a m x l matrix then, XY is defined and has the dimension n x l (but YX is not defined). Here are a couple of ways to implement matrix multiplication in Python."
      ]
    },
    {
      "cell_type": "code",
      "metadata": {
        "colab": {
          "base_uri": "https://localhost:8080/"
        },
        "id": "XDiUqVhhPiL1",
        "outputId": "b541be01-c32a-4247-d78e-14dc02062b48"
      },
      "source": [
        "def matRead(r,c):\n",
        "  return[[int(input(\" [%d,%d] value:\"%(i,j)))for j in range(c)]for i in range(r)]\n",
        " \n",
        "def matDisp(mat,r,c):\n",
        "  for i in range(r):\n",
        "    for j in range(c):\n",
        "      print(mat[i][j],end='\\t')\n",
        "    print() \n",
        " \n",
        "matA=[[]]\n",
        "matB=[[]]\n",
        "matMul=[[]]\n",
        "rows=int(input(\"Enter row size of the matrix\")) \n",
        "cols=int(input(\"Enter column size of the matrix\")) \n",
        " \n",
        "if rows==cols:\n",
        "  print(\"Enter Matrix-A elements:\") \n",
        "  matA=matRead(rows,cols) \n",
        " \n",
        "  print(\"Enter Matrix-B elements:\") \n",
        "  matB=matRead(rows,cols)\n",
        " \n",
        "  matMul=[[0 for j in range(cols)]for i in range(rows)]\n",
        " \n",
        "  for i in range(rows):\n",
        "    for j in range(cols):\n",
        "       for k in range(cols):\n",
        "          matMul[i][j]+=matA[i][k]*matB[k][j]\n",
        " \n",
        "  print(\"Matrix-A is:\") \n",
        "  matDisp(matA,rows,cols) \n",
        " \n",
        "  print(\"Matrix-B is:\") \n",
        "  matDisp(matB,rows,cols) \n",
        " \n",
        "  print(\"Multiplication of matrices is:\") \n",
        "  matDisp(matMul,rows,cols) \n",
        "else:\n",
        "  print(\"Matrices Multiplication is Not possible\")"
      ],
      "execution_count": null,
      "outputs": [
        {
          "name": "stdout",
          "output_type": "stream",
          "text": [
            "Enter row size of the matrix2\n",
            "Enter column size of the matrix2\n",
            "Enter Matrix-A elements:\n",
            " [0,0] value:5\n",
            " [0,1] value:4\n",
            " [1,0] value:7\n",
            " [1,1] value:4\n",
            "Enter Matrix-B elements:\n",
            " [0,0] value:8\n",
            " [0,1] value:3\n",
            " [1,0] value:6\n",
            " [1,1] value:4\n",
            "Matrix-A is:\n",
            "5\t4\t\n",
            "7\t4\t\n",
            "Matrix-B is:\n",
            "8\t3\t\n",
            "6\t4\t\n",
            "Multiplication of matrices is:\n",
            "64\t31\t\n",
            "80\t37\t\n"
          ]
        }
      ]
    },
    {
      "cell_type": "markdown",
      "metadata": {
        "id": "KRtM3RhbU08I"
      },
      "source": [
        "            EXERCISE 12- Modules"
      ]
    },
    {
      "cell_type": "markdown",
      "metadata": {
        "id": "kpQmpUXmVRCq"
      },
      "source": [
        "A) Install packages requests,flask and explore them,using(pip)  \n",
        " \n",
        "CODE& OUTPUT:"
      ]
    },
    {
      "cell_type": "markdown",
      "metadata": {
        "id": "2CpVPWlHidkE"
      },
      "source": [
        "**AIM**:\n",
        "\n",
        " Install packages requests,flask and explore them using(pip)\n",
        "\n",
        "**DESCRIPTION**:\n",
        "\n",
        "Installing the pip Python package manager on Windows If you are on Windows, and your installed Python the current version, you already have pip! If your Python installation is not the most recent, the easiest thing to do is to simply reinstall it. Download the Python Windows installer at https://www.python.org/downloads/.\n",
        "\n",
        "In Windows, the variable that controls which programs are accessible from the command line is path. To modify your path to include Python and pip, we have to add C:\\Python27 and C:\\Python27\\Tools. Edit the Windows path by opening the Windows menu, right-clicking on Computer and clicking on Properties. Under Advanced system settings, click Environment Variables.... Scroll down until you find Path, double-click it, and add ;C:\\Python27;C:\\Python27\\Tools to the end.\n",
        "\n",
        "Installing packages:\n",
        "\n",
        "Suppose you want to install a package called requests (which is used to make HTTP requests). You need to issue the following command.\n",
        "\n",
        "pip install requests\n",
        "\n",
        "show installed packages\n",
        "\n",
        "You can use the following command to get information about a installed package, i.e Package name, version, location, dependencies.\n",
        "\n",
        "pip show package_name\n",
        "\n",
        "install flask\n",
        "\n",
        "On Mac and Linux, because you are installing programs outside the user-owned folders, you might have to prepend sudo to the install commands. To install Flask, simply run this:\n",
        "\n",
        "$ pip install flask\n",
        "\n",
        "show installed flask\n",
        "\n",
        "You can use the following command to get information about a installed flask, i.e Package name, version, location, dependencies\n",
        "\n",
        "$ pip show flask"
      ]
    },
    {
      "cell_type": "code",
      "metadata": {
        "colab": {
          "base_uri": "https://localhost:8080/"
        },
        "id": "QCvU8SrMUCWe",
        "outputId": "2b410fb7-b54b-4d39-c897-5335cb528ad8"
      },
      "source": [
        "pip install requests flask"
      ],
      "execution_count": null,
      "outputs": [
        {
          "name": "stdout",
          "output_type": "stream",
          "text": [
            "Requirement already satisfied: requests in /usr/local/lib/python3.7/dist-packages (2.23.0)\n",
            "Requirement already satisfied: flask in /usr/local/lib/python3.7/dist-packages (1.1.4)\n",
            "Requirement already satisfied: idna<3,>=2.5 in /usr/local/lib/python3.7/dist-packages (from requests) (2.10)\n",
            "Requirement already satisfied: urllib3!=1.25.0,!=1.25.1,<1.26,>=1.21.1 in /usr/local/lib/python3.7/dist-packages (from requests) (1.24.3)\n",
            "Requirement already satisfied: certifi>=2017.4.17 in /usr/local/lib/python3.7/dist-packages (from requests) (2021.5.30)\n",
            "Requirement already satisfied: chardet<4,>=3.0.2 in /usr/local/lib/python3.7/dist-packages (from requests) (3.0.4)\n",
            "Requirement already satisfied: itsdangerous<2.0,>=0.24 in /usr/local/lib/python3.7/dist-packages (from flask) (1.1.0)\n",
            "Requirement already satisfied: click<8.0,>=5.1 in /usr/local/lib/python3.7/dist-packages (from flask) (7.1.2)\n",
            "Requirement already satisfied: Jinja2<3.0,>=2.10.1 in /usr/local/lib/python3.7/dist-packages (from flask) (2.11.3)\n",
            "Requirement already satisfied: Werkzeug<2.0,>=0.15 in /usr/local/lib/python3.7/dist-packages (from flask) (1.0.1)\n",
            "Requirement already satisfied: MarkupSafe>=0.23 in /usr/local/lib/python3.7/dist-packages (from Jinja2<3.0,>=2.10.1->flask) (2.0.1)\n"
          ]
        }
      ]
    },
    {
      "cell_type": "code",
      "metadata": {
        "colab": {
          "base_uri": "https://localhost:8080/"
        },
        "id": "w-yJJrMTUKVa",
        "outputId": "46c27a05-b369-4270-ece9-95f23be93f6e"
      },
      "source": [
        "pip show requests"
      ],
      "execution_count": null,
      "outputs": [
        {
          "name": "stdout",
          "output_type": "stream",
          "text": [
            "Name: requests\n",
            "Version: 2.23.0\n",
            "Summary: Python HTTP for Humans.\n",
            "Home-page: https://requests.readthedocs.io\n",
            "Author: Kenneth Reitz\n",
            "Author-email: me@kennethreitz.org\n",
            "License: Apache 2.0\n",
            "Location: /usr/local/lib/python3.7/dist-packages\n",
            "Requires: chardet, urllib3, certifi, idna\n",
            "Required-by: tweepy, torchtext, tensorflow-datasets, tensorboard, Sphinx, spacy, requests-oauthlib, pymystem3, pooch, panel, pandas-datareader, kaggle, gspread, google-colab, google-api-core, gdown, folium, fix-yahoo-finance, fastai, coveralls, community, CacheControl\n"
          ]
        }
      ]
    },
    {
      "cell_type": "code",
      "metadata": {
        "colab": {
          "base_uri": "https://localhost:8080/"
        },
        "id": "JYZt6OhUUN43",
        "outputId": "22b312d4-42ea-420d-dd62-b438dbdbb777"
      },
      "source": [
        "pip show flask"
      ],
      "execution_count": null,
      "outputs": [
        {
          "name": "stdout",
          "output_type": "stream",
          "text": [
            "Name: Flask\n",
            "Version: 1.1.4\n",
            "Summary: A simple framework for building complex web applications.\n",
            "Home-page: https://palletsprojects.com/p/flask/\n",
            "Author: Armin Ronacher\n",
            "Author-email: armin.ronacher@active-4.com\n",
            "License: BSD-3-Clause\n",
            "Location: /usr/local/lib/python3.7/dist-packages\n",
            "Requires: Jinja2, click, Werkzeug, itsdangerous\n",
            "Required-by: community\n"
          ]
        }
      ]
    },
    {
      "cell_type": "markdown",
      "metadata": {
        "id": "dh_hZjs_nIre"
      },
      "source": [
        " b) Write a script that imports requests and fetch content from the page. Eg. (Wiki)"
      ]
    },
    {
      "cell_type": "markdown",
      "metadata": {
        "id": "F8yRD9udivp9"
      },
      "source": [
        "**AIM**:\n",
        "\n",
        "To Write a scripts that imports requests and fetch content from the page.Eg. (Wiki)code:\n",
        "\n",
        "**DESCRIPTION**:\n",
        "\n",
        "The Hypertext Transfer Protocol (HTTP) is an application protocol for distributed, collaborative, hypermedia information systems. HTTP is the foundation of data communication for the World Wide Web.\n",
        "\n",
        "Python requests\n",
        "\n",
        "Requests is a simple and elegant Python HTTP library. It provides methods for accessing Web resources via HTTP.\n",
        "\n",
        "Python requests reading a web page\n",
        "\n",
        "The get() method issues a GET request; it fetches documents identified by the given URL."
      ]
    },
    {
      "cell_type": "code",
      "metadata": {
        "colab": {
          "base_uri": "https://localhost:8080/"
        },
        "id": "CNcXq-T4nHlR",
        "outputId": "ced90ec8-aa55-4901-99a3-d14ddf93badb"
      },
      "source": [
        "# In using-requests.py\n",
        " \n",
        "import requests\n",
        " \n",
        "url = 'https://www.google.com'\n",
        "response = requests.get(url)\n",
        "print(f'Response returned: {response.status_code}, {response.reason}')\n",
        "print(response.text)"
      ],
      "execution_count": null,
      "outputs": [
        {
          "name": "stdout",
          "output_type": "stream",
          "text": [
            "Response returned: 200, OK\n",
            "<!doctype html><html itemscope=\"\" itemtype=\"http://schema.org/WebPage\" lang=\"en\"><head><meta content=\"Search the world's information, including webpages, images, videos and more. Google has many special features to help you find exactly what you're looking for.\" name=\"description\"><meta content=\"noodp\" name=\"robots\"><meta content=\"text/html; charset=UTF-8\" http-equiv=\"Content-Type\"><meta content=\"/images/branding/googleg/1x/googleg_standard_color_128dp.png\" itemprop=\"image\"><title>Google</title><script nonce=\"MkFxpg3dQDRLK63XgEsW7g==\">(function(){window.google={kEI:'8mf1YIXOCvXq9APz44WgCA',kEXPI:'0,772215,1,530320,56873,954,5105,206,2414,2390,2316,383,246,5,1354,4936,315,2945,1119570,1197760,131,391,328985,51224,16114,19397,9287,17572,4858,1362,9290,3030,2814,14765,4020,978,13228,3847,4192,6434,1138,6290,7095,4517,2778,919,5081,1593,1279,2212,530,149,1103,840,1983,4,209,4101,3514,606,2023,1733,43,521,14670,3227,2845,8,4773,825,6755,5096,7877,5036,1483,1372,552,908,2,940,2615,3901,8809,432,3,346,1244,1,5445,148,11323,991,1661,4,1528,2304,1240,5223,576,74,1983,2626,2015,4067,7434,2110,1714,3050,2658,4243,3113,31,4634,8994,2306,637,37,1457,5586,3772,3494,776,1723,770,665,5770,2587,4094,18,3121,5,908,3,3541,1,5349,9367,1,1807,283,38,874,5998,1154,9459,1728,179,2,1394,756,658,1,110,8,1,1272,1715,2,3057,2538,1,2,2,3612,627,4,32,4,2243,2,3142,4,683,442,342,255,55,4,434,2379,91,30,285,235,958,823,1274,4578,2050,1647,171,2718,2,695,2137,3,363,677,75,570,515,1269,3425,3,1711,292,1440,33,907,1340,1,234,1144,3452,2,254,2,291,2,542,3,123,5350,13,1448,86,1972,374,1,12,3,1,725,825,224,1898,693,1,8,28,1,8,24,2183,120,393,644,324,1,2,337,689,6,53,70,899,1513,31,75,316,471,84,57,269,98,30,766,16,41,101,190,141,424,331,85,1123,287,55,6,1376,599,472,1010,2250,402,66,476,1069,1,63,132,443,980,4,244,5609516,3904,99,2,89,4,32,220,58,5996291,519,2800697,882,444,1,2,80,1,1796,1,9,2,2551,1,748,141,795,563,1,4265,1,1,2,1331,3299,843,2609,155,17,13,72,139,4,2,20,2,169,13,19,46,5,39,96,548,29,2,2,1,2,1,2,2,7,4,1,2,2,2,2,2,2,312,41,513,186,1,1,158,3,2,2,2,2,2,4,2,3,3,233,36,21,1874751,21780086,299865,2866027,1146349,28975,338,3,2340,980,7,1876,258,772077',kBL:'01HL'};google.sn='webhp';google.kHL='en';})();(function(){\n",
            "var f=this||self;var h,k=[];function l(a){for(var b;a&&(!a.getAttribute||!(b=a.getAttribute(\"eid\")));)a=a.parentNode;return b||h}function m(a){for(var b=null;a&&(!a.getAttribute||!(b=a.getAttribute(\"leid\")));)a=a.parentNode;return b}\n",
            "function n(a,b,c,d,g){var e=\"\";c||-1!==b.search(\"&ei=\")||(e=\"&ei=\"+l(d),-1===b.search(\"&lei=\")&&(d=m(d))&&(e+=\"&lei=\"+d));d=\"\";!c&&f._cshid&&-1===b.search(\"&cshid=\")&&\"slh\"!==a&&(d=\"&cshid=\"+f._cshid);c=c||\"/\"+(g||\"gen_204\")+\"?atyp=i&ct=\"+a+\"&cad=\"+b+e+\"&zx=\"+Date.now()+d;/^http:/i.test(c)&&\"https:\"===window.location.protocol&&(google.ml&&google.ml(Error(\"a\"),!1,{src:c,glmm:1}),c=\"\");return c};h=google.kEI;google.getEI=l;google.getLEI=m;google.ml=function(){return null};google.log=function(a,b,c,d,g){if(c=n(a,b,c,d,g)){a=new Image;var e=k.length;k[e]=a;a.onerror=a.onload=a.onabort=function(){delete k[e]};a.src=c}};google.logUrl=n;}).call(this);(function(){\n",
            "google.y={};google.sy=[];google.x=function(a,b){if(a)var c=a.id;else{do c=Math.random();while(google.y[c])}google.y[c]=[a,b];return!1};google.sx=function(a){google.sy.push(a)};google.lm=[];google.plm=function(a){google.lm.push.apply(google.lm,a)};google.lq=[];google.load=function(a,b,c){google.lq.push([[a],b,c])};google.loadAll=function(a,b){google.lq.push([a,b])};google.bx=!1;google.lx=function(){};}).call(this);google.f={};(function(){\n",
            "document.documentElement.addEventListener(\"submit\",function(b){var a;if(a=b.target){var c=a.getAttribute(\"data-submitfalse\");a=\"1\"==c||\"q\"==c&&!a.elements.q.value?!0:!1}else a=!1;a&&(b.preventDefault(),b.stopPropagation())},!0);document.documentElement.addEventListener(\"click\",function(b){var a;a:{for(a=b.target;a&&a!=document.documentElement;a=a.parentElement)if(\"A\"==a.tagName){a=\"1\"==a.getAttribute(\"data-nohref\");break a}a=!1}a&&b.preventDefault()},!0);}).call(this);</script><style>#gbar,#guser{font-size:13px;padding-top:1px !important;}#gbar{height:22px}#guser{padding-bottom:7px !important;text-align:right}.gbh,.gbd{border-top:1px solid #c9d7f1;font-size:1px}.gbh{height:0;position:absolute;top:24px;width:100%}@media all{.gb1{height:22px;margin-right:.5em;vertical-align:top}#gbar{float:left}}a.gb1,a.gb4{text-decoration:underline !important}a.gb1,a.gb4{color:#00c !important}.gbi .gb4{color:#dd8e27 !important}.gbf .gb4{color:#900 !important}\n",
            "</style><style>body,td,a,p,.h{font-family:arial,sans-serif}body{margin:0;overflow-y:scroll}#gog{padding:3px 8px 0}td{line-height:.8em}.gac_m td{line-height:17px}form{margin-bottom:20px}.h{color:#1558d6}em{font-weight:bold;font-style:normal}.lst{height:25px;width:496px}.gsfi,.lst{font:18px arial,sans-serif}.gsfs{font:17px arial,sans-serif}.ds{display:inline-box;display:inline-block;margin:3px 0 4px;margin-left:4px}input{font-family:inherit}body{background:#fff;color:#000}a{color:#4b11a8;text-decoration:none}a:hover,a:active{text-decoration:underline}.fl a{color:#1558d6}a:visited{color:#4b11a8}.sblc{padding-top:5px}.sblc a{display:block;margin:2px 0;margin-left:13px;font-size:11px}.lsbb{background:#f8f9fa;border:solid 1px;border-color:#dadce0 #70757a #70757a #dadce0;height:30px}.lsbb{display:block}#WqQANb a{display:inline-block;margin:0 12px}.lsb{background:url(/images/nav_logo229.png) 0 -261px repeat-x;border:none;color:#000;cursor:pointer;height:30px;margin:0;outline:0;font:15px arial,sans-serif;vertical-align:top}.lsb:active{background:#dadce0}.lst:focus{outline:none}</style><script nonce=\"MkFxpg3dQDRLK63XgEsW7g==\"></script></head><body bgcolor=\"#fff\"><script nonce=\"MkFxpg3dQDRLK63XgEsW7g==\">(function(){var src='/images/nav_logo229.png';var iesg=false;document.body.onload = function(){window.n && window.n();if (document.images){new Image().src=src;}\n",
            "if (!iesg){document.f&&document.f.q.focus();document.gbqf&&document.gbqf.q.focus();}\n",
            "}\n",
            "})();</script><div id=\"mngb\"><div id=gbar><nobr><b class=gb1>Search</b> <a class=gb1 href=\"https://www.google.com/imghp?hl=en&tab=wi\">Images</a> <a class=gb1 href=\"https://maps.google.com/maps?hl=en&tab=wl\">Maps</a> <a class=gb1 href=\"https://play.google.com/?hl=en&tab=w8\">Play</a> <a class=gb1 href=\"https://www.youtube.com/?gl=US&tab=w1\">YouTube</a> <a class=gb1 href=\"https://news.google.com/?tab=wn\">News</a> <a class=gb1 href=\"https://mail.google.com/mail/?tab=wm\">Gmail</a> <a class=gb1 href=\"https://drive.google.com/?tab=wo\">Drive</a> <a class=gb1 style=\"text-decoration:none\" href=\"https://www.google.com/intl/en/about/products?tab=wh\"><u>More</u> &raquo;</a></nobr></div><div id=guser width=100%><nobr><span id=gbn class=gbi></span><span id=gbf class=gbf></span><span id=gbe></span><a href=\"http://www.google.com/history/optout?hl=en\" class=gb4>Web History</a> | <a  href=\"/preferences?hl=en\" class=gb4>Settings</a> | <a target=_top id=gb_70 href=\"https://accounts.google.com/ServiceLogin?hl=en&passive=true&continue=https://www.google.com/&ec=GAZAAQ\" class=gb4>Sign in</a></nobr></div><div class=gbh style=left:0></div><div class=gbh style=right:0></div></div><center><br clear=\"all\" id=\"lgpd\"><div id=\"lga\"><img alt=\"Google\" height=\"92\" src=\"/images/branding/googlelogo/1x/googlelogo_white_background_color_272x92dp.png\" style=\"padding:28px 0 14px\" width=\"272\" id=\"hplogo\"><br><br></div><form action=\"/search\" name=\"f\"><table cellpadding=\"0\" cellspacing=\"0\"><tr valign=\"top\"><td width=\"25%\">&nbsp;</td><td align=\"center\" nowrap=\"\"><input name=\"ie\" value=\"ISO-8859-1\" type=\"hidden\"><input value=\"en\" name=\"hl\" type=\"hidden\"><input name=\"source\" type=\"hidden\" value=\"hp\"><input name=\"biw\" type=\"hidden\"><input name=\"bih\" type=\"hidden\"><div class=\"ds\" style=\"height:32px;margin:4px 0\"><input class=\"lst\" style=\"margin:0;padding:5px 8px 0 6px;vertical-align:top;color:#000\" autocomplete=\"off\" value=\"\" title=\"Google Search\" maxlength=\"2048\" name=\"q\" size=\"57\"></div><br style=\"line-height:0\"><span class=\"ds\"><span class=\"lsbb\"><input class=\"lsb\" value=\"Google Search\" name=\"btnG\" type=\"submit\"></span></span><span class=\"ds\"><span class=\"lsbb\"><input class=\"lsb\" id=\"tsuid1\" value=\"I'm Feeling Lucky\" name=\"btnI\" type=\"submit\"><script nonce=\"MkFxpg3dQDRLK63XgEsW7g==\">(function(){var id='tsuid1';document.getElementById(id).onclick = function(){if (this.form.q.value){this.checked = 1;if (this.form.iflsig)this.form.iflsig.disabled = false;}\n",
            "else top.location='/doodles/';};})();</script><input value=\"AINFCbYAAAAAYPV2AkU1QgmtU3LrcxiGn6HlKIVHqrQ6\" name=\"iflsig\" type=\"hidden\"></span></span></td><td class=\"fl sblc\" align=\"left\" nowrap=\"\" width=\"25%\"><a href=\"/advanced_search?hl=en&amp;authuser=0\">Advanced search</a></td></tr></table><input id=\"gbv\" name=\"gbv\" type=\"hidden\" value=\"1\"><script nonce=\"MkFxpg3dQDRLK63XgEsW7g==\">(function(){\n",
            "var a,b=\"1\";if(document&&document.getElementById)if(\"undefined\"!=typeof XMLHttpRequest)b=\"2\";else if(\"undefined\"!=typeof ActiveXObject){var c,d,e=[\"MSXML2.XMLHTTP.6.0\",\"MSXML2.XMLHTTP.3.0\",\"MSXML2.XMLHTTP\",\"Microsoft.XMLHTTP\"];for(c=0;d=e[c++];)try{new ActiveXObject(d),b=\"2\"}catch(h){}}a=b;if(\"2\"==a&&-1==location.search.indexOf(\"&gbv=2\")){var f=google.gbvu,g=document.getElementById(\"gbv\");g&&(g.value=a);f&&window.setTimeout(function(){location.href=f},0)};}).call(this);</script></form><div id=\"gac_scont\"></div><div style=\"font-size:83%;min-height:3.5em\"><br></div><span id=\"footer\"><div style=\"font-size:10pt\"><div style=\"margin:19px auto;text-align:center\" id=\"WqQANb\"><a href=\"/intl/en/ads/\">Advertising Programs</a><a href=\"/services/\">Business Solutions</a><a href=\"/intl/en/about.html\">About Google</a></div></div><p style=\"font-size:8pt;color:#70757a\">&copy; 2021 - <a href=\"/intl/en/policies/privacy/\">Privacy</a> - <a href=\"/intl/en/policies/terms/\">Terms</a></p></span></center><script nonce=\"MkFxpg3dQDRLK63XgEsW7g==\">(function(){window.google.cdo={height:757,width:1440};(function(){\n",
            "var a=window.innerWidth,b=window.innerHeight;if(!a||!b){var c=window.document,d=\"CSS1Compat\"==c.compatMode?c.documentElement:c.body;a=d.clientWidth;b=d.clientHeight}a&&b&&(a!=google.cdo.width||b!=google.cdo.height)&&google.log(\"\",\"\",\"/client_204?&atyp=i&biw=\"+a+\"&bih=\"+b+\"&ei=\"+google.kEI);}).call(this);})();</script> <script nonce=\"MkFxpg3dQDRLK63XgEsW7g==\">(function(){google.xjs={ck:'',cs:'',excm:[],pml:false};})();</script>  <script nonce=\"MkFxpg3dQDRLK63XgEsW7g==\">(function(){var u='/xjs/_/js/k\\x3dxjs.hp.en_US.u-X60WtIi-Y.O/m\\x3dsb_he,d/am\\x3dAHgCLA/d\\x3d1/ed\\x3d1/rs\\x3dACT90oHH4aIsupOvO3lhHWc-TIx4ptE7pg';\n",
            "var e=this||self,f=function(a){return a};var g;var l=function(a,b){this.g=b===h?a:\"\"};l.prototype.toString=function(){return this.g+\"\"};var h={};function m(){var a=u;google.lx=function(){n(a);google.lx=function(){}};google.bx||google.lx()}\n",
            "function n(a){google.timers&&google.timers.load&&google.tick&&google.tick(\"load\",\"xjsls\");var b=document;var c=\"SCRIPT\";\"application/xhtml+xml\"===b.contentType&&(c=c.toLowerCase());c=b.createElement(c);if(void 0===g){b=null;var k=e.trustedTypes;if(k&&k.createPolicy){try{b=k.createPolicy(\"goog#html\",{createHTML:f,createScript:f,createScriptURL:f})}catch(p){e.console&&e.console.error(p.message)}g=b}else g=b}a=(b=g)?b.createScriptURL(a):a;a=new l(a,h);c.src=a instanceof l&&a.constructor===l?a.g:\"type_error:TrustedResourceUrl\";var d;a=(c.ownerDocument&&c.ownerDocument.defaultView||window).document;(d=(a=null===(d=a.querySelector)||void 0===d?void 0:d.call(a,\"script[nonce]\"))?a.nonce||a.getAttribute(\"nonce\")||\"\":\"\")&&c.setAttribute(\"nonce\",d);document.body.appendChild(c);google.psa=!0};setTimeout(function(){m()},0);})();(function(){window.google.xjsu='/xjs/_/js/k\\x3dxjs.hp.en_US.u-X60WtIi-Y.O/m\\x3dsb_he,d/am\\x3dAHgCLA/d\\x3d1/ed\\x3d1/rs\\x3dACT90oHH4aIsupOvO3lhHWc-TIx4ptE7pg';})();function _DumpException(e){throw e;}\n",
            "function _F_installCss(c){}\n",
            "(function(){google.jl={attn:false,blt:'none',chnk:0,dw:false,emtn:0,end:0,ine:false,lls:'default',pdt:0,rep:0,snet:true,strt:0,ubm:false,uwp:true};})();(function(){var pmc='{\\x22d\\x22:{},\\x22sb_he\\x22:{\\x22agen\\x22:false,\\x22cgen\\x22:false,\\x22client\\x22:\\x22heirloom-hp\\x22,\\x22dh\\x22:true,\\x22dhqt\\x22:true,\\x22ds\\x22:\\x22\\x22,\\x22ffql\\x22:\\x22en\\x22,\\x22fl\\x22:true,\\x22host\\x22:\\x22google.com\\x22,\\x22isbh\\x22:28,\\x22jsonp\\x22:true,\\x22msgs\\x22:{\\x22cibl\\x22:\\x22Clear Search\\x22,\\x22dym\\x22:\\x22Did you mean:\\x22,\\x22lcky\\x22:\\x22I\\\\u0026#39;m Feeling Lucky\\x22,\\x22lml\\x22:\\x22Learn more\\x22,\\x22oskt\\x22:\\x22Input tools\\x22,\\x22psrc\\x22:\\x22This search was removed from your \\\\u003Ca href\\x3d\\\\\\x22/history\\\\\\x22\\\\u003EWeb History\\\\u003C/a\\\\u003E\\x22,\\x22psrl\\x22:\\x22Remove\\x22,\\x22sbit\\x22:\\x22Search by image\\x22,\\x22srch\\x22:\\x22Google Search\\x22},\\x22ovr\\x22:{},\\x22pq\\x22:\\x22\\x22,\\x22refpd\\x22:true,\\x22rfs\\x22:[],\\x22sbas\\x22:\\x220 3px 8px 0 rgba(0,0,0,0.2),0 0 0 1px rgba(0,0,0,0.08)\\x22,\\x22sbpl\\x22:16,\\x22sbpr\\x22:16,\\x22scd\\x22:10,\\x22stok\\x22:\\x22nk1rIHE7ktBSzQa4ZrkRiSP498o\\x22,\\x22uhde\\x22:false}}';google.pmc=JSON.parse(pmc);})();</script>        </body></html>\n"
          ]
        }
      ]
    },
    {
      "cell_type": "markdown",
      "metadata": {
        "id": "kcS0mN99smW4"
      },
      "source": [
        "c) Write a simple script that serves a simple HTTPResponse and a simple HTML Page"
      ]
    },
    {
      "cell_type": "markdown",
      "metadata": {
        "id": "a_7WCQ7FjKzr"
      },
      "source": [
        "**AIM**:\n",
        "\n",
        "To Write a simple script that serves a simple HTTPResponse and Simple HTML page.\n",
        "\n",
        "**DESCRIPTION**:\n",
        "\n",
        "HTTP Protocol\n",
        "\n",
        "The most important part of a web server is HTTP protocol.So now we will see what exactly this is –\n",
        "\n",
        "It stands for Hyper Text Transfer Protocol.\n",
        "\n",
        "It is an application layer protocol that allows web based applications to communicate and exchange data.\n",
        "\n",
        "The HTTP is the messenger of web.\n",
        "\n",
        "The computer that communicate via the HTTP must speak the HTTP protocol.\n",
        "\n",
        "It is a TCP/IP based protocol.\n",
        "\n",
        "It is used to deliver contents, for eg. images, audios, videos, documents etc.\n",
        "\n",
        "Using HTTP is the most convenient way to quickly and reliably move data on the web.\n",
        "\n",
        "# HTML stands for hypertext markup language. It is the standard markup language for web pages that define the structure of the content. These elements are the building blocks of any website"
      ]
    },
    {
      "cell_type": "code",
      "metadata": {
        "colab": {
          "background_save": true,
          "base_uri": "https://localhost:8080/"
        },
        "id": "Q5qiiz0ospcj",
        "outputId": "1c4e2a36-32b6-4b84-9f69-03a66fa34db8"
      },
      "source": [
        "from flask import Flask\n",
        "app = Flask(__name__)\n",
        "@app.route(\"/\")\n",
        "def home():\n",
        "    return\"Hello this is simple<h1>HELLO<h1>\"\n",
        "if __name__==\"__main__\":\n",
        "    app.run()"
      ],
      "execution_count": null,
      "outputs": [
        {
          "name": "stdout",
          "output_type": "stream",
          "text": [
            " * Serving Flask app \"__main__\" (lazy loading)\n",
            " * Environment: production\n",
            "\u001b[31m   WARNING: This is a development server. Do not use it in a production deployment.\u001b[0m\n",
            "\u001b[2m   Use a production WSGI server instead.\u001b[0m\n",
            " * Debug mode: off\n"
          ]
        },
        {
          "name": "stderr",
          "output_type": "stream",
          "text": [
            " * Running on http://127.0.0.1:5000/ (Press CTRL+C to quit)\n"
          ]
        }
      ]
    },
    {
      "cell_type": "markdown",
      "metadata": {
        "id": "5bpvWQRdsoDA"
      },
      "source": [
        "by copying the link provided and opening the above link we will get a html page saying Hello this is simple"
      ]
    },
    {
      "cell_type": "markdown",
      "metadata": {
        "id": "y-5II0AYVMWS"
      },
      "source": [
        "             EXERCISE 13-OPP"
      ]
    },
    {
      "cell_type": "markdown",
      "metadata": {
        "id": "z8weK5LLVT4a"
      },
      "source": [
        "A) Class variables and instance variables and illustrations of the self-variable\n",
        "\n",
        "1)Robot\n",
        "\n",
        "CODE:"
      ]
    },
    {
      "cell_type": "markdown",
      "metadata": {
        "id": "BIJ4Rr_pjXkC"
      },
      "source": [
        "**AIM**:\n",
        "\n",
        "To class variables and instance variable and illustration of the self -variable\n",
        "\n",
        "**DESCRIPTION**:\n",
        "\n",
        "Variables are named storage location. In python variables are not defined by its type instead it will be automatically determined by the value assigned to it. To determine the type of a variable a function called type () is used.\n",
        "\n",
        "class variableis shared by all object instances of a class. ... They are not defined inside any methods of a class. Because a class variable is shared by instances of a class, the Python class owns the variable. As a result, all instances of the class will be able to access that variable\n",
        "\n",
        "Instance variables are owned by instances of the class. This means that for each object or instance of a class, the instance variables are different. ... Instance variables, owned by objects of the class, allow for each object or instance to have different values assigned to those variables\n",
        "\n",
        "self variable is used to bind the instance of the class to the instance method. We have to explicitly declare it as the first method argument to access the instance variables and methods. This variable is used only with the instance methods.\n",
        "\n",
        "PROGRAM:\n",
        "\n",
        "i)ATM ii)robot"
      ]
    },
    {
      "cell_type": "code",
      "metadata": {
        "colab": {
          "base_uri": "https://localhost:8080/"
        },
        "id": "m2V_v6bgC7dF",
        "outputId": "651df353-1d9f-4799-bf8b-4cf3ef5af10e"
      },
      "source": [
        "class Robot:\n",
        "  what=\"machine\"\n",
        "  name=\"Bannu\"\n",
        "  version=1.0\n",
        "  speed=\"1THz\"\n",
        "  memory=\"1ZB\"\n",
        " \n",
        "  def update(upd):\n",
        "    upd.version=2.0\n",
        "    upd.speed=\"2THz\"\n",
        "    memory=\"2ZB\"\n",
        " \n",
        "  def disp(self):\n",
        "    print(\"My self is a\",robj.what)\n",
        "    print(\"my name is a\",robj.name)\n",
        "    print(\"version:\",robj.version)\n",
        "    print(\"speed:\",robj.speed)\n",
        "    print(\"memory:\",robj.memory)\n",
        " \n",
        "robj=Robot()\n",
        "robj.disp()\n",
        "print(\"--------Update-----------\")\n",
        "robj.update()\n",
        "robj.disp()"
      ],
      "execution_count": null,
      "outputs": [
        {
          "name": "stdout",
          "output_type": "stream",
          "text": [
            "My self is a machine\n",
            "my name is a Bannu\n",
            "version: 1.0\n",
            "speed: 1THz\n",
            "memory: 1ZB\n",
            "--------Update-----------\n",
            "My self is a machine\n",
            "my name is a Bannu\n",
            "version: 2.0\n",
            "speed: 2THz\n",
            "memory: 1ZB\n"
          ]
        }
      ]
    },
    {
      "cell_type": "markdown",
      "metadata": {
        "id": "pymFtgf-V3Lc"
      },
      "source": [
        " \n",
        "2) ATM MACHINE\n",
        "\n",
        "CODE:"
      ]
    },
    {
      "cell_type": "code",
      "metadata": {
        "colab": {
          "base_uri": "https://localhost:8080/"
        },
        "id": "_0JYmLhmpa5r",
        "outputId": "b0bf3cfe-73b4-4028-8b28-b1320cc6bc3f"
      },
      "source": [
        " \n",
        " \n",
        "class ATM:\n",
        "   balance=0\n",
        "   \n",
        "   def enquirie(self):\n",
        "     print(\"Balance:\",self.balance)\n",
        "  \n",
        "   def deposit(self):\n",
        "     amount=int(input(\"Enter the Deposit Amount:\"))\n",
        "     self.balance+=amount\n",
        "     self.enquirie()\n",
        "   \n",
        "   def withdraw(self):\n",
        "     amount=int(input(\"Enter the withdraw Amount:\"))\n",
        "     if self.balance<amount:\n",
        "         print(\"Insufficient Balance....!\")\n",
        "     else:\n",
        "         self.balance-=amount\n",
        "         self.enquirie()\n",
        " \n",
        "aobj=ATM()\n",
        "while(True):\n",
        "  print(\"*Menu*\")\n",
        "  print(\"1.Deposit\")\n",
        "  print(\"2.Withdraw\")\n",
        "  print(\"3.Balance\")\n",
        "  print(\"0.Exit\")\n",
        "  ch=int(input(\"Enter Your choice.\"))\n",
        "  if ch==0:\n",
        "     break\n",
        "  elif ch==1:\n",
        "     aobj.deposit()\n",
        "  elif ch==2:\n",
        "     aobj.withdraw()\n",
        "  elif ch==3:\n",
        "     aobj.enquirie()\n",
        "  else:\n",
        "     print(\"Invalid choice:\")\n",
        "     pass"
      ],
      "execution_count": null,
      "outputs": [
        {
          "name": "stdout",
          "output_type": "stream",
          "text": [
            "*Menu*\n",
            "1.Deposit\n",
            "2.Withdraw\n",
            "3.Balance\n",
            "0.Exit\n",
            "Enter Your choice.1\n",
            "Enter the Deposit Amount:4444\n",
            "Balance: 4444\n",
            "*Menu*\n",
            "1.Deposit\n",
            "2.Withdraw\n",
            "3.Balance\n",
            "0.Exit\n",
            "Enter Your choice.3\n",
            "Balance: 4444\n",
            "*Menu*\n",
            "1.Deposit\n",
            "2.Withdraw\n",
            "3.Balance\n",
            "0.Exit\n",
            "Enter Your choice.2\n",
            "Enter the withdraw Amount:444\n",
            "Balance: 4000\n",
            "*Menu*\n",
            "1.Deposit\n",
            "2.Withdraw\n",
            "3.Balance\n",
            "0.Exit\n",
            "Enter Your choice.3\n",
            "Balance: 4000\n",
            "*Menu*\n",
            "1.Deposit\n",
            "2.Withdraw\n",
            "3.Balance\n",
            "0.Exit\n",
            "Enter Your choice.0\n"
          ]
        }
      ]
    },
    {
      "cell_type": "markdown",
      "metadata": {
        "id": "IYfAA8GeoCLB"
      },
      "source": [
        "EXERCISE - 14 :GUI, GRAPHICS"
      ]
    },
    {
      "cell_type": "markdown",
      "metadata": {
        "id": "A4COyrUDpQ0U"
      },
      "source": [
        "A. WRITE A GUI FOR AN EXPRESSION CALCULATOR USING TK\n",
        "\n",
        "CODE:"
      ]
    },
    {
      "cell_type": "markdown",
      "metadata": {
        "id": "ciZ3d69OjokS"
      },
      "source": [
        "**AIM**:\n",
        "\n",
        "To Write a GUI for an Expression Calculator using tk\n",
        "\n",
        "**DESCRIPTION**:\n",
        "\n",
        "Tkinter is a Python package which comes with many functions and methods that can be used to create an application. In order to create a tkinter application, we generally create an instance of tkinter frame, i.e., Tk(). It helps to display the root window and manages all the other components of the tkinter application. We can initialize the tkinter instance by assigning the variable to it."
      ]
    },
    {
      "cell_type": "code",
      "metadata": {
        "id": "A4wIueAlotls"
      },
      "source": [
        "from tkinter import *\n",
        " \n",
        "win = Tk() # to create a basic window\n",
        "win.geometry(\"312x324\")  #for the size of the window \n",
        "win.resizable(0, 0)  # to prevent from resizing the window\n",
        "win.title(\"Calculator\")\n",
        " \n",
        "# 'btn_click' Function continuously updates the \n",
        "# input field whenever you enters a number\n",
        " \n",
        "def btn_click(item):\n",
        "    global expression\n",
        "    expression = expression + str(item)\n",
        "    input_text.set(expression)\n",
        " \n",
        "# 'bt_clear' function : used to clear the input field\n",
        " \n",
        "def bt_clear(): \n",
        "    global expression \n",
        "    expression = \"\"\n",
        "    input_text.set(\"\")\n",
        " \n",
        "# 'bt_equal':calculates the expression present in input field\n",
        " \n",
        "def bt_equal():\n",
        "    global expression\n",
        "    result = str(eval(expression)) # 'eval':This function is used to evaluates the string expression directly\n",
        "    input_text.set(result)\n",
        "    expression = \"\"\n",
        " \n",
        "expression = \"\"\n",
        " \n",
        "# 'StringVar()' :used to get the instance of input field\n",
        " \n",
        "input_text = StringVar()\n",
        " \n",
        "# creating a frame for the input field\n",
        " \n",
        "input_frame = Frame(win, width=312, height=50, bd=0, highlightbackground=\"black\", highlightcolor=\"black\", highlightthickness=2)\n",
        " \n",
        "input_frame.pack(side=TOP)\n",
        " \n",
        "#create a input field inside the 'Frame'\n",
        " \n",
        "input_field = Entry(input_frame, font=('arial', 18, 'bold'), textvariable=input_text, width=50, bg=\"#eee\", bd=0, justify=RIGHT)\n",
        " \n",
        "input_field.grid(row=0, column=0)\n",
        " \n",
        "input_field.pack(ipady=10)\n",
        "# 'ipady' is internal padding to increase the height of input field\n",
        " \n",
        "#creating another 'Frame' for the button below the 'input_frame'\n",
        " \n",
        "btns_frame = Frame(win, width=312, height=272.5, bg=\"grey\")\n",
        " \n",
        "btns_frame.pack()\n",
        " \n",
        "# first row\n",
        " \n",
        "clear = Button(btns_frame, text = \"C\", fg = \"black\", width = 32, height = 3, bd = 0, bg = \"#eee\", cursor = \"hand2\", command = lambda: bt_clear()).grid(row = 0, column = 0, columnspan = 3, padx = 1, pady = 1)\n",
        " \n",
        "divide = Button(btns_frame, text = \"/\", fg = \"black\", width = 10, height = 3, bd = 0, bg = \"#eee\", cursor = \"hand2\", command = lambda: btn_click(\"/\")).grid(row = 0, column = 3, padx = 1, pady = 1)\n",
        " \n",
        "# second row\n",
        " \n",
        "seven = Button(btns_frame, text = \"7\", fg = \"black\", width = 10, height = 3, bd = 0, bg = \"#fff\", cursor = \"hand2\", command = lambda: btn_click(7)).grid(row = 1, column = 0, padx = 1, pady = 1)\n",
        " \n",
        "eight = Button(btns_frame, text = \"8\", fg = \"black\", width = 10, height = 3, bd = 0, bg = \"#fff\", cursor = \"hand2\", command = lambda: btn_click(8)).grid(row = 1, column = 1, padx = 1, pady = 1)\n",
        " \n",
        "nine = Button(btns_frame, text = \"9\", fg = \"black\", width = 10, height = 3, bd = 0, bg = \"#fff\", cursor = \"hand2\", command = lambda: btn_click(9)).grid(row = 1, column = 2, padx = 1, pady = 1)\n",
        " \n",
        "multiply = Button(btns_frame, text = \"\", fg = \"black\", width = 10, height = 3, bd = 0, bg = \"#eee\", cursor = \"hand2\", command = lambda: btn_click(\"\")).grid(row = 1, column = 3, padx = 1, pady = 1)\n",
        " \n",
        "# third row\n",
        " \n",
        "four = Button(btns_frame, text = \"4\", fg = \"black\", width = 10, height = 3, bd = 0, bg = \"#fff\", cursor = \"hand2\", command = lambda: btn_click(4)).grid(row = 2, column = 0, padx = 1, pady = 1)\n",
        " \n",
        "five = Button(btns_frame, text = \"5\", fg = \"black\", width = 10, height = 3, bd = 0, bg = \"#fff\", cursor = \"hand2\", command = lambda: btn_click(5)).grid(row = 2, column = 1, padx = 1, pady = 1)\n",
        " \n",
        "six = Button(btns_frame, text = \"6\", fg = \"black\", width = 10, height = 3, bd = 0, bg = \"#fff\", cursor = \"hand2\", command = lambda: btn_click(6)).grid(row = 2, column = 2, padx = 1, pady = 1)\n",
        " \n",
        "minus = Button(btns_frame, text = \"-\", fg = \"black\", width = 10, height = 3, bd = 0, bg = \"#eee\", cursor = \"hand2\", command = lambda: btn_click(\"-\")).grid(row = 2, column = 3, padx = 1, pady = 1)\n",
        " \n",
        "# fourth row\n",
        " \n",
        "one = Button(btns_frame, text = \"1\", fg = \"black\", width = 10, height = 3, bd = 0, bg = \"#fff\", cursor = \"hand2\", command = lambda: btn_click(1)).grid(row = 3, column = 0, padx = 1, pady = 1)\n",
        " \n",
        "two = Button(btns_frame, text = \"2\", fg = \"black\", width = 10, height = 3, bd = 0, bg = \"#fff\", cursor = \"hand2\", command = lambda: btn_click(2)).grid(row = 3, column = 1, padx = 1, pady = 1)\n",
        " \n",
        "three = Button(btns_frame, text = \"3\", fg = \"black\", width = 10, height = 3, bd = 0, bg = \"#fff\", cursor = \"hand2\", command = lambda: btn_click(3)).grid(row = 3, column = 2, padx = 1, pady = 1)\n",
        " \n",
        "plus = Button(btns_frame, text = \"+\", fg = \"black\", width = 10, height = 3, bd = 0, bg = \"#eee\", cursor = \"hand2\", command = lambda: btn_click(\"+\")).grid(row = 3, column = 3, padx = 1, pady = 1)\n",
        " \n",
        "# fifth row\n",
        " \n",
        "zero = Button(btns_frame, text = \"0\", fg = \"black\", width = 21, height = 3, bd = 0, bg = \"#fff\", cursor = \"hand2\", command = lambda: btn_click(0)).grid(row = 4, column = 0, columnspan = 2, padx = 1, pady = 1)\n",
        " \n",
        "point = Button(btns_frame, text = \".\", fg = \"black\", width = 10, height = 3, bd = 0, bg = \"#eee\", cursor = \"hand2\", command = lambda: btn_click(\".\")).grid(row = 4, column = 2, padx = 1, pady = 1)\n",
        " \n",
        "equals = Button(btns_frame, text = \"=\", fg = \"black\", width = 10, height = 3, bd = 0, bg = \"#eee\", cursor = \"hand2\", command = lambda: bt_equal()).grid(row = 4, column = 3, padx = 1, pady = 1)\n",
        " \n",
        "win.mainloop()"
      ],
      "execution_count": null,
      "outputs": []
    },
    {
      "cell_type": "markdown",
      "metadata": {
        "id": "X5Bz5ghwpfPp"
      },
      "source": [
        "B. WRITE A PROGRAM TO IMPLEMENT THE FOLLOWING FIGURES USING TURTLE\n",
        "\n",
        "CODE:"
      ]
    },
    {
      "cell_type": "markdown",
      "metadata": {
        "id": "QXIaEwxukexY"
      },
      "source": [
        "**Aim**:\n",
        "To Write a program to implement the following figures using turtle\n",
        "\n",
        "**DESCRIPTION**:\n",
        "\n",
        "The turtle module is an extended reimplementation of the same-named module from the Python standard distribution up to version Python 2.5.\n",
        "\n",
        "It tries to keep the merits of the old turtle module and to be (nearly) 100% compatible with it. This means in the first place to enable the learning programmer to use all the commands, classes and methods interactively when using the module from within IDLE run with the -n switch.\n",
        "\n",
        "The turtle module provides turtle graphics primitives, in both object-oriented and procedure-oriented ways. Because it uses tkinter for the underlying graphics, it needs a version of Python installed with Tk support."
      ]
    },
    {
      "cell_type": "code",
      "metadata": {
        "id": "f6214hfPoxcK"
      },
      "source": [
        "import turtle\n",
        "c=[\"red\",\"green\",\"blue\"]\n",
        "i=0\n",
        "turtle.pensize(5)\n",
        " \n",
        "for angle in range(0,360,30):\n",
        "    if i>2:\n",
        "        i=0\n",
        "    turtle.color(c[i])\n",
        "    turtle.seth(angle)\n",
        "    turtle.circle(50)\n",
        "    i+=1"
      ],
      "execution_count": null,
      "outputs": []
    },
    {
      "cell_type": "code",
      "metadata": {
        "id": "rpzLFe_co--N"
      },
      "source": [
        "import turtle\n",
        "turtle.pensize(1)\n",
        " \n",
        "for i in range(36):\n",
        "    for j in range(4):\n",
        "        turtle.forward(70)\n",
        "        turtle.left(90)\n",
        "    turtle.left(10)"
      ],
      "execution_count": null,
      "outputs": []
    },
    {
      "cell_type": "markdown",
      "metadata": {
        "id": "-EjP_kvzppSF"
      },
      "source": [
        "EXERCISE - 15 - TESTING"
      ]
    },
    {
      "cell_type": "markdown",
      "metadata": {
        "id": "sQsL-LiBrG43"
      },
      "source": [
        "A) WRITE A TEST-CASE TO CHECK THE FUNCTION EVEN NUMBERS WHICH RETURN TRUE ON PASSING A LIST OF ALL EVEN NUMBERS"
      ]
    },
    {
      "cell_type": "markdown",
      "metadata": {
        "id": "wyvQ2xIbkwWK"
      },
      "source": [
        "AIM:\n",
        "\n",
        "To Write a test-case to check the function even numbers which return True on passing a list of all even numbers\n",
        "\n",
        "DESCRIPTION:\n",
        "\n",
        "TestCase is used to create test cases by subclassing it. The last block of the code at the bottom allows us to run all the tests just by running the file. Basic terms used in the code : assertEqual() – This statement is used to check if the result obtained is equal to the expected result\n",
        "\n",
        "test case:\n",
        "\n",
        "A test case is a set of conditions which is used to determine whether a system under test works correctly."
      ]
    },
    {
      "cell_type": "code",
      "metadata": {
        "colab": {
          "base_uri": "https://localhost:8080/"
        },
        "id": "scpR1nMMqm9q",
        "outputId": "6132f188-df14-4774-ef5c-f07deeaaf062"
      },
      "source": [
        "def evnNo(num):\n",
        "    stat=True\n",
        " \n",
        "    for i in num:\n",
        "        if i%2 ==1:\n",
        "            stat=False\n",
        "            break\n",
        "    return stat\n",
        "        \n",
        "numbers=[]\n",
        "for i in range(0,2):\n",
        "    numbers.append(int(input(\"Enter a value\")))\n",
        "print(evnNo(numbers))"
      ],
      "execution_count": null,
      "outputs": [
        {
          "name": "stdout",
          "output_type": "stream",
          "text": [
            "Enter a value4\n",
            "Enter a value2\n",
            "True\n"
          ]
        }
      ]
    },
    {
      "cell_type": "markdown",
      "metadata": {
        "id": "DWHHszalrKgB"
      },
      "source": [
        "B) WRITE A TEST-CASE TO CHECK THE FUNCTION REVERSE STRING WHICH RETURNS THE REVERSED STRING"
      ]
    },
    {
      "cell_type": "markdown",
      "metadata": {
        "id": "41KgWiPflFiR"
      },
      "source": [
        "**AIM**:\n",
        "\n",
        "To Write a test-case to check the function reverse string which returns the reversed string\n",
        "\n",
        "**DESCRIPTION**:\n",
        "\n",
        "Python string library does’nt support the in-built “reverse()” as done by other python containers like list, hence knowing other methods to reverse string can prove to be useful. This article discusses several ways to achieve it.\n",
        "\n",
        "The reversed() returns the reversed iterator of the given string and then its elements are joined empty string separated using join(). And reversed order string is formed."
      ]
    },
    {
      "cell_type": "code",
      "metadata": {
        "colab": {
          "base_uri": "https://localhost:8080/"
        },
        "id": "8nHNde47qppN",
        "outputId": "76850f6b-b89f-415c-bc94-5baaeb86214a"
      },
      "source": [
        "def rev_str(st):\n",
        "  temp=\"\"\n",
        "  for i in range(len(st)-1,-1,-1):\n",
        "     temp+=st[i]\n",
        "  return temp\n",
        "st=\"SCET \"\n",
        "print(\"given string is\",st)\n",
        "print(\"reverse string is:\",rev_str(st))"
      ],
      "execution_count": null,
      "outputs": [
        {
          "name": "stdout",
          "output_type": "stream",
          "text": [
            "given string is SCET \n",
            "reverse string is:  TECS\n"
          ]
        }
      ]
    },
    {
      "cell_type": "markdown",
      "metadata": {
        "id": "XdzKjd-QqsZG"
      },
      "source": [
        "EXERCISE-16:ADVANCED"
      ]
    },
    {
      "cell_type": "markdown",
      "metadata": {
        "id": "BpZbJugYrP6W"
      },
      "source": [
        "A) BUILD ANY ONE CLASSICAL DATA STRUCTURE."
      ]
    },
    {
      "cell_type": "markdown",
      "metadata": {
        "id": "J45VzmhAlTzK"
      },
      "source": [
        "**AIM**:\n",
        "\n",
        "TO Build any one classical data structure.\n",
        "\n",
        "**DESCRIPTION**:\n",
        "\n",
        "What is a Data Structure Organizing, managing and storing data is important as it enables easier access and efficient modifications. Data Structures allows you to organize your data in such a way that enables you to store collections of data, relate them and perform operations on them accordingly.\n",
        "\n",
        "Stack Stacks are linear Data Structures which are based on the principle of Last-In-First-Out (LIFO) where data which is entered last will be the first to get accessed. It is built using the array structure and has operations namely, pushing (adding) elements, popping (deleting) elements and accessing elements only from one point in the stack called as the TOP. This TOP is the pointer to the current position of the stack. Stacks are prominently used in applications such as Recursive Programming, reversing words, undo mechanisms in word editors and so forth."
      ]
    },
    {
      "cell_type": "code",
      "metadata": {
        "colab": {
          "base_uri": "https://localhost:8080/"
        },
        "id": "crzOadYSsADx",
        "outputId": "28422f20-11e9-41d7-b6ee-3481524787f5"
      },
      "source": [
        "def knapSack(W, wt, val, n):\n",
        "   K= [[0 for x in range(W+1)] for x in range(n+1)]\n",
        "   for i in range(n+1):\n",
        "     for w in range(W+1):\n",
        "       if i==0 or w==0:\n",
        "          K[i][w] = 0\n",
        "       elif wt[i-1]<=w:\n",
        "          K[i][w]= max(val[i-1]+K[i-1][w-wt[i-1]],K[i-1][w])\n",
        "       else:\n",
        "          K[i][w] = K[i-1][w]\n",
        "   return K[n][W]\n",
        "val = [5, 3, 4]\n",
        "wt = [3, 2, 1]\n",
        "W = 5\n",
        "n= len(val)\n",
        "print(\"Maximum value knapsack of capacity W: \", knapSack(W, wt,val,n))"
      ],
      "execution_count": null,
      "outputs": [
        {
          "name": "stdout",
          "output_type": "stream",
          "text": [
            "Maximum value knapsack of capacity W:  9\n"
          ]
        }
      ]
    },
    {
      "cell_type": "markdown",
      "metadata": {
        "id": "Ex4Q6TbZrP9B"
      },
      "source": [
        "B) WRITE A PROGRAM TO SOLVE KNAPSACK PROBLEM."
      ]
    },
    {
      "cell_type": "markdown",
      "metadata": {
        "id": "8tnKkQMYljPO"
      },
      "source": [
        "**AIM**:\n",
        "\n",
        "To Write a program to solve knapsack problem\n",
        "\n",
        "**DESCRIPTION**:\n",
        "\n",
        "Python Program for 0-1 Knapsack Problem\n",
        "\n",
        "Problem statement − We are given weights and values of n items, we need to put these items in a bag of capacity W up to the maximum capacity w. We need to carry a maximum number of items and return its value.\n",
        "\n",
        "Brute-force approach.\n",
        "\n",
        "dynamic approach."
      ]
    },
    {
      "cell_type": "code",
      "metadata": {
        "colab": {
          "background_save": true,
          "base_uri": "https://localhost:8080/"
        },
        "id": "kSj1ZXyfsGdf",
        "outputId": "7d053999-cb74-4340-b42b-dd00a4817517"
      },
      "source": [
        "import sys\n",
        "a=[]\n",
        " \n",
        "while True:\n",
        "  print (\"\\nl.PUSH 2.POP 3.DISPLAY 4.EXIT\")\n",
        "  ch=int(input(\"Enter Your Choice: \"))\n",
        "  if ch==1:\n",
        "   ele=int(input(\"Enter element: \"))\n",
        "   a.append(ele)\n",
        "   print(\"Inserted\")\n",
        "  elif ch==2:\n",
        "   if len(a)==0:\n",
        "     print (\"\\t STACK IS EMPTY\")\n",
        "   else:\n",
        "     print (\"Deleted element is: \",a[len(a)-1])\n",
        "     a.remove(a[len(a)-1])\n",
        "  elif ch==3:\n",
        "   if len(a)==0:\n",
        "     print (\"\\t STACK IS EMPTY\")\n",
        "   else:\n",
        "    print (\"The Elements in Stack is: \")\n",
        "    for i in reversed(a):\n",
        "       print(i)\n",
        "  elif ch==4:\n",
        "    sys.exit()\n",
        "  else:\n",
        "   print (\"\\tINVALID CHOICE\")"
      ],
      "execution_count": null,
      "outputs": [
        {
          "name": "stdout",
          "output_type": "stream",
          "text": [
            "\n",
            "l.PUSH 2.POP 3.DISPLAY 4.EXIT\n",
            "Inserted\n",
            "\n",
            "l.PUSH 2.POP 3.DISPLAY 4.EXIT\n",
            "Inserted\n",
            "\n",
            "l.PUSH 2.POP 3.DISPLAY 4.EXIT\n",
            "Inserted\n",
            "\n",
            "l.PUSH 2.POP 3.DISPLAY 4.EXIT\n",
            "Deleted element is:  8\n",
            "\n",
            "l.PUSH 2.POP 3.DISPLAY 4.EXIT\n",
            "\tINVALID CHOICE\n",
            "\n",
            "l.PUSH 2.POP 3.DISPLAY 4.EXIT\n",
            "The Elements in Stack is: \n",
            "5\n",
            "4\n",
            "\n",
            "l.PUSH 2.POP 3.DISPLAY 4.EXIT\n"
          ]
        }
      ]
    },
    {
      "cell_type": "markdown",
      "metadata": {
        "id": "t19OGYURsMd9"
      },
      "source": [
        "EXERCISE 17 & 18-DATA ANALYSIS\n",
        " \n",
        "DATA ANALYSIS OR MANIPULATION USING THE FOLLOWING PACKAGES\n",
        " \n",
        "A) NUMPY B) PANDAS\n",
        " \n",
        "A) SCIPY B) MATPLOTLIB"
      ]
    },
    {
      "cell_type": "markdown",
      "metadata": {
        "id": "tAP60Q7pmDm5"
      },
      "source": [
        "**AIM**:\n",
        "\n",
        "Data analysis or manipulation using the following packages a) Numpy b) Pandas a) Scipy b) matplotlib DESCRIPTION:\n",
        "\n",
        "Learn how to analyze data using Python. ... It includes following parts: Data Analysis libraries: will learn to use Pandas, Numpy and Scipy libraries to work with a sample dataset. We will introduce you to pandas, an open-source library, and we will use it to load, manipulate, analyze, and visualize cool datasets.\n",
        "\n",
        "**SciPy** is a free and open-source Python library used for scientific computing and technical computing. It is a collection of mathematical algorithms and convenience functions built on the NumPy extension of Python\n",
        "\n",
        "**NumPy** is the fundamental package for scientific computing in Python. ... NumPy arrays facilitate advanced mathematical and other types of operations on large numbers of data.\n",
        "\n",
        "**Matplotlib** is a plotting library for the Python programming language and its numerical mathematics extension NumPy. It provides an object-oriented API for embedding plots into applications using general-purpose GUI toolkits like Tkinter, wxPython, Qt, or GTK\n",
        "\n",
        "**Pandas** is an open source Python package that is most widely used for data science/data analysis and machine learning tasks. It is built on top of another package named Numpy, which provides support for multi-dimensional arrays.\n",
        "\n",
        "Scikit-learn is probably the most useful library for machine learning in Python. The sklearn library contains a lot of efficient tools for machine learning and statistical modeling including classification, regression, clustering and dimensionality reduction.\n",
        "\n",
        "Seaborn is a library in Python predominantly used for making statistical graphics. Seaborn is a data visualization library built on top of matplotlib and closely integrated with pandas data structures in Python"
      ]
    },
    {
      "cell_type": "code",
      "metadata": {
        "colab": {
          "base_uri": "https://localhost:8080/"
        },
        "id": "cgWOoafjsP0S",
        "outputId": "e6909a5e-ce7a-433c-a0fa-5895f6ba389b"
      },
      "source": [
        "#Python version\n",
        "import sys\n",
        "print('Python: {}'.format(sys.version))\n",
        " \n",
        "#scipy\n",
        "import scipy\n",
        "print('scipy: {}'.format(scipy.__version__))\n",
        " \n",
        "# numpy\n",
        "import numpy\n",
        "print( 'numpy: {}'.format(numpy.__version__))\n",
        " \n",
        "# matplotlib\n",
        "import matplotlib\n",
        "print('matplotlib: {}'.format(matplotlib.__version__))\n",
        " \n",
        "# pandas\n",
        "import pandas\n",
        "print('pandas: {}'.format(pandas.__version__))\n",
        " \n",
        "#scikit-learn\n",
        "import sklearn\n",
        "print('sklearn: {}'.format(sklearn.__version__))\n",
        "import seaborn\n",
        "print('seaborn: {}'.format(seaborn.__version__))\n",
        "import urllib\n",
        "print('urlib: {}'.format(urllib.__name__))\n",
        "import csv\n",
        "print('csv: {}'.format(csv.__version__))"
      ],
      "execution_count": null,
      "outputs": [
        {
          "name": "stdout",
          "output_type": "stream",
          "text": [
            "Python: 3.7.11 (default, Jul  3 2021, 18:01:19) \n",
            "[GCC 7.5.0]\n",
            "scipy: 1.4.1\n",
            "numpy: 1.19.5\n",
            "matplotlib: 3.2.2\n",
            "pandas: 1.1.5\n",
            "sklearn: 0.22.2.post1\n",
            "seaborn: 0.11.1\n",
            "urlib: urllib\n",
            "csv: 1.0\n"
          ]
        }
      ]
    }
  ]
}